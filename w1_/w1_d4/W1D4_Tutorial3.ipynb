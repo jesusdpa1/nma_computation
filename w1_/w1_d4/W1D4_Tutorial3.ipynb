{
  "cells": [
    {
      "cell_type": "markdown",
      "metadata": {
        "id": "view-in-github",
        "colab_type": "text"
      },
      "source": [
        "<a href=\"https://colab.research.google.com/github/jesusdpa1/nma_computation/blob/main/w1_d4/W1D4_Tutorial3.ipynb\" target=\"_parent\"><img src=\"https://colab.research.google.com/assets/colab-badge.svg\" alt=\"Open In Colab\"/></a>"
      ]
    },
    {
      "cell_type": "markdown",
      "metadata": {
        "execution": {},
        "id": "bZo7ppIOxDFV"
      },
      "source": [
        "# Tutorial 3: Dimensionality Reduction & Reconstruction\n",
        "\n",
        "**Week 1, Day 4: Dimensionality Reduction**\n",
        "\n",
        "**By Neuromatch Academy**\n",
        "\n",
        "__Content creators:__ Alex Cayco Gajic, John Murray\n",
        "\n",
        "__Content reviewers:__ Roozbeh Farhoudi, Matt Krause, Spiros Chavlis, Richard Gao, Michael Waskom,  Siddharth Suresh, Natalie Schaworonkow, Ella Batty"
      ]
    },
    {
      "cell_type": "markdown",
      "metadata": {
        "execution": {},
        "id": "mq0wDD3cxDFf"
      },
      "source": [
        "<p align='center'><img src='https://github.com/NeuromatchAcademy/widgets/blob/master/sponsors.png?raw=True'/></p>"
      ]
    },
    {
      "cell_type": "markdown",
      "metadata": {
        "execution": {},
        "id": "I_CTDXacxDFh"
      },
      "source": [
        "---\n",
        "# Tutorial Objectives\n",
        "\n",
        "*Estimated timing of tutorial: 50 minutes*\n",
        "\n",
        "In this notebook we'll learn to apply PCA for dimensionality reduction, using a classic dataset that is often used to benchmark machine learning algorithms: MNIST. We'll also learn how to use PCA for reconstruction and denoising.\n",
        "\n",
        "Overview:\n",
        "- Perform PCA on MNIST\n",
        "- Calculate the variance explained\n",
        "- Reconstruct data with different numbers of PCs\n",
        "- (Bonus) Examine denoising using PCA\n",
        "\n",
        "\n",
        "You can learn more about the MNIST dataset [here](https://en.wikipedia.org/wiki/MNIST_database)."
      ]
    },
    {
      "cell_type": "markdown",
      "metadata": {
        "id": "tSpp3g1zxDFj"
      },
      "source": [
        "##  Tutorial slides\n"
      ]
    },
    {
      "cell_type": "markdown",
      "metadata": {
        "id": "7oDOoAHqxDFk"
      },
      "source": [
        " These are the slides for the videos in all tutorials today\n"
      ]
    },
    {
      "cell_type": "code",
      "execution_count": null,
      "metadata": {
        "cellView": "form",
        "execution": {},
        "tags": [
          "remove-input"
        ],
        "id": "asj6xCfHxDFl"
      },
      "outputs": [],
      "source": [
        "# @title Tutorial slides\n",
        "\n",
        "# @markdown These are the slides for the videos in all tutorials today\n",
        "from IPython.display import IFrame\n",
        "IFrame(src=f\"https://mfr.ca-1.osf.io/render?url=https://osf.io/kaq2x/?direct%26mode=render%26action=download%26mode=render\", width=854, height=480)"
      ]
    },
    {
      "cell_type": "markdown",
      "metadata": {
        "id": "sL0_f6dBxDFo"
      },
      "source": [
        "##  Video 1: PCA for dimensionality reduction\n"
      ]
    },
    {
      "cell_type": "code",
      "execution_count": null,
      "metadata": {
        "cellView": "form",
        "execution": {},
        "tags": [
          "remove-input"
        ],
        "id": "CqH9Sj3IxDFs"
      },
      "outputs": [],
      "source": [
        "# @title Video 1: PCA for dimensionality reduction\n",
        "from ipywidgets import widgets\n",
        "\n",
        "out2 = widgets.Output()\n",
        "with out2:\n",
        "  from IPython.display import IFrame\n",
        "  class BiliVideo(IFrame):\n",
        "      def __init__(self, id, page=1, width=400, height=300, **kwargs):\n",
        "          self.id=id\n",
        "          src = 'https://player.bilibili.com/player.html?bvid={0}&page={1}'.format(id, page)\n",
        "          super(BiliVideo, self).__init__(src, width, height, **kwargs)\n",
        "\n",
        "  video = BiliVideo(id=\"BV1up4y1S7xs\", width=730, height=410, fs=1)\n",
        "  print('Video available at https://www.bilibili.com/video/{0}'.format(video.id))\n",
        "  display(video)\n",
        "\n",
        "out1 = widgets.Output()\n",
        "with out1:\n",
        "  from IPython.display import YouTubeVideo\n",
        "  video = YouTubeVideo(id=\"oO0bbInoO_0\", width=730, height=410, fs=1, rel=0)\n",
        "  print('Video available at https://youtube.com/watch?v=' + video.id)\n",
        "  display(video)\n",
        "\n",
        "out = widgets.Tab([out1, out2])\n",
        "out.set_title(0, 'Youtube')\n",
        "out.set_title(1, 'Bilibili')\n",
        "\n",
        "display(out)"
      ]
    },
    {
      "cell_type": "markdown",
      "metadata": {
        "execution": {},
        "id": "_PhoM0m0xDFw"
      },
      "source": [
        "---\n",
        "# Setup"
      ]
    },
    {
      "cell_type": "code",
      "execution_count": 1,
      "metadata": {
        "execution": {},
        "id": "BMzdcJzaxDFz"
      },
      "outputs": [],
      "source": [
        "# Imports\n",
        "import numpy as np\n",
        "import matplotlib.pyplot as plt"
      ]
    },
    {
      "cell_type": "markdown",
      "metadata": {
        "id": "aee9SJHRxDF2"
      },
      "source": [
        "##  Figure Settings\n"
      ]
    },
    {
      "cell_type": "code",
      "execution_count": 2,
      "metadata": {
        "cellView": "form",
        "execution": {},
        "tags": [
          "hide-input"
        ],
        "id": "diUINrAXxDF3"
      },
      "outputs": [],
      "source": [
        "# @title Figure Settings\n",
        "import ipywidgets as widgets   # interactive display\n",
        "%config InlineBackend.figure_format = 'retina'\n",
        "plt.style.use(\"https://raw.githubusercontent.com/NeuromatchAcademy/course-content/main/nma.mplstyle\")"
      ]
    },
    {
      "cell_type": "markdown",
      "metadata": {
        "id": "jOdvTUZpxDF4"
      },
      "source": [
        "##  Plotting Functions\n"
      ]
    },
    {
      "cell_type": "code",
      "execution_count": 3,
      "metadata": {
        "cellView": "form",
        "execution": {},
        "tags": [
          "hide-input"
        ],
        "id": "Qqho8jz2xDF5"
      },
      "outputs": [],
      "source": [
        "# @title Plotting Functions\n",
        "\n",
        "def plot_variance_explained(variance_explained):\n",
        "  \"\"\"\n",
        "  Plots eigenvalues.\n",
        "\n",
        "  Args:\n",
        "    variance_explained (numpy array of floats) : Vector of variance explained\n",
        "                                                 for each PC\n",
        "\n",
        "  Returns:\n",
        "    Nothing.\n",
        "\n",
        "  \"\"\"\n",
        "\n",
        "  plt.figure()\n",
        "  plt.plot(np.arange(1, len(variance_explained) + 1), variance_explained,\n",
        "           '--k')\n",
        "  plt.xlabel('Number of components')\n",
        "  plt.ylabel('Variance explained')\n",
        "  plt.show()\n",
        "\n",
        "\n",
        "def plot_MNIST_reconstruction(X, X_reconstructed):\n",
        "  \"\"\"\n",
        "  Plots 9 images in the MNIST dataset side-by-side with the reconstructed\n",
        "  images.\n",
        "\n",
        "  Args:\n",
        "    X (numpy array of floats)               : Data matrix each column\n",
        "                                              corresponds to a different\n",
        "                                              random variable\n",
        "    X_reconstructed (numpy array of floats) : Data matrix each column\n",
        "                                              corresponds to a different\n",
        "                                              random variable\n",
        "\n",
        "  Returns:\n",
        "    Nothing.\n",
        "  \"\"\"\n",
        "\n",
        "  plt.figure()\n",
        "  ax = plt.subplot(121)\n",
        "  k = 0\n",
        "  for k1 in range(3):\n",
        "    for k2 in range(3):\n",
        "      k = k + 1\n",
        "      plt.imshow(np.reshape(X[k, :], (28, 28)),\n",
        "                 extent=[(k1 + 1) * 28, k1 * 28, (k2 + 1) * 28, k2 * 28],\n",
        "                 vmin=0, vmax=255)\n",
        "  plt.xlim((3 * 28, 0))\n",
        "  plt.ylim((3 * 28, 0))\n",
        "  plt.tick_params(axis='both', which='both', bottom=False, top=False,\n",
        "                  labelbottom=False)\n",
        "  ax.set_xticks([])\n",
        "  ax.set_yticks([])\n",
        "  plt.title('Data')\n",
        "  plt.clim([0, 250])\n",
        "  ax = plt.subplot(122)\n",
        "  k = 0\n",
        "  for k1 in range(3):\n",
        "    for k2 in range(3):\n",
        "      k = k + 1\n",
        "      plt.imshow(np.reshape(np.real(X_reconstructed[k, :]), (28, 28)),\n",
        "                 extent=[(k1 + 1) * 28, k1 * 28, (k2 + 1) * 28, k2 * 28],\n",
        "                 vmin=0, vmax=255)\n",
        "  plt.xlim((3 * 28, 0))\n",
        "  plt.ylim((3 * 28, 0))\n",
        "  plt.tick_params(axis='both', which='both', bottom=False, top=False,\n",
        "                  labelbottom=False)\n",
        "  ax.set_xticks([])\n",
        "  ax.set_yticks([])\n",
        "  plt.clim([0, 250])\n",
        "  plt.title('Reconstructed')\n",
        "  plt.tight_layout()\n",
        "\n",
        "\n",
        "def plot_MNIST_sample(X):\n",
        "  \"\"\"\n",
        "  Plots 9 images in the MNIST dataset.\n",
        "\n",
        "  Args:\n",
        "     X (numpy array of floats) : Data matrix each column corresponds to a\n",
        "                                 different random variable\n",
        "\n",
        "  Returns:\n",
        "    Nothing.\n",
        "\n",
        "  \"\"\"\n",
        "\n",
        "  fig, ax = plt.subplots()\n",
        "  k = 0\n",
        "  for k1 in range(3):\n",
        "    for k2 in range(3):\n",
        "      k = k + 1\n",
        "      plt.imshow(np.reshape(X[k, :], (28, 28)),\n",
        "                 extent=[(k1 + 1) * 28, k1 * 28, (k2+1) * 28, k2 * 28],\n",
        "                 vmin=0, vmax=255)\n",
        "  plt.xlim((3 * 28, 0))\n",
        "  plt.ylim((3 * 28, 0))\n",
        "  plt.tick_params(axis='both', which='both', bottom=False, top=False,\n",
        "                  labelbottom=False)\n",
        "  plt.clim([0, 250])\n",
        "  ax.set_xticks([])\n",
        "  ax.set_yticks([])\n",
        "  plt.show()\n",
        "\n",
        "\n",
        "def plot_MNIST_weights(weights):\n",
        "  \"\"\"\n",
        "  Visualize PCA basis vector weights for MNIST. Red = positive weights,\n",
        "  blue = negative weights, white = zero weight.\n",
        "\n",
        "  Args:\n",
        "     weights (numpy array of floats) : PCA basis vector\n",
        "\n",
        "  Returns:\n",
        "     Nothing.\n",
        "  \"\"\"\n",
        "\n",
        "  fig, ax = plt.subplots()\n",
        "  cmap = plt.cm.get_cmap('seismic')\n",
        "  plt.imshow(np.real(np.reshape(weights, (28, 28))), cmap=cmap)\n",
        "  plt.tick_params(axis='both', which='both', bottom=False, top=False,\n",
        "                  labelbottom=False)\n",
        "  plt.clim(-.15, .15)\n",
        "  plt.colorbar(ticks=[-.15, -.1, -.05, 0, .05, .1, .15])\n",
        "  ax.set_xticks([])\n",
        "  ax.set_yticks([])\n",
        "  plt.show()\n",
        "\n",
        "\n",
        "def plot_eigenvalues(evals, limit=True):\n",
        "  \"\"\"\n",
        "  Plots eigenvalues.\n",
        "\n",
        "  Args:\n",
        "     (numpy array of floats) : Vector of eigenvalues\n",
        "\n",
        "  Returns:\n",
        "    Nothing.\n",
        "\n",
        "  \"\"\"\n",
        "\n",
        "  plt.figure()\n",
        "  plt.plot(np.arange(1, len(evals) + 1), evals, 'o-k')\n",
        "  plt.xlabel('Component')\n",
        "  plt.ylabel('Eigenvalue')\n",
        "  plt.title('Scree plot')\n",
        "  if limit:\n",
        "    plt.show()"
      ]
    },
    {
      "cell_type": "markdown",
      "metadata": {
        "id": "llVAfFnlxDF9"
      },
      "source": [
        "##  Helper Functions\n"
      ]
    },
    {
      "cell_type": "code",
      "execution_count": 4,
      "metadata": {
        "cellView": "form",
        "execution": {},
        "tags": [
          "hide-input"
        ],
        "id": "hIqARPC_xDF9"
      },
      "outputs": [],
      "source": [
        "# @title Helper Functions\n",
        "\n",
        "def add_noise(X, frac_noisy_pixels):\n",
        "  \"\"\"\n",
        "  Randomly corrupts a fraction of the pixels by setting them to random values.\n",
        "\n",
        "  Args:\n",
        "     X (numpy array of floats)  : Data matrix\n",
        "     frac_noisy_pixels (scalar) : Fraction of noisy pixels\n",
        "\n",
        "  Returns:\n",
        "     (numpy array of floats)    : Data matrix + noise\n",
        "\n",
        "  \"\"\"\n",
        "\n",
        "  X_noisy = np.reshape(X, (X.shape[0] * X.shape[1]))\n",
        "  N_noise_ixs = int(X_noisy.shape[0] * frac_noisy_pixels)\n",
        "  noise_ixs = np.random.choice(X_noisy.shape[0], size=N_noise_ixs,\n",
        "                               replace=False)\n",
        "  X_noisy[noise_ixs] = np.random.uniform(0, 255, noise_ixs.shape)\n",
        "  X_noisy = np.reshape(X_noisy, (X.shape[0], X.shape[1]))\n",
        "\n",
        "  return X_noisy\n",
        "\n",
        "\n",
        "def change_of_basis(X, W):\n",
        "  \"\"\"\n",
        "  Projects data onto a new basis.\n",
        "\n",
        "  Args:\n",
        "    X (numpy array of floats) : Data matrix each column corresponding to a\n",
        "                                different random variable\n",
        "    W (numpy array of floats) : new orthonormal basis columns correspond to\n",
        "                                basis vectors\n",
        "\n",
        "  Returns:\n",
        "    (numpy array of floats)   : Data matrix expressed in new basis\n",
        "  \"\"\"\n",
        "\n",
        "  Y = np.matmul(X, W)\n",
        "\n",
        "  return Y\n",
        "\n",
        "\n",
        "def get_sample_cov_matrix(X):\n",
        "  \"\"\"\n",
        "  Returns the sample covariance matrix of data X.\n",
        "\n",
        "  Args:\n",
        "    X (numpy array of floats) : Data matrix each column corresponds to a\n",
        "                                different random variable\n",
        "\n",
        "  Returns:\n",
        "    (numpy array of floats)   : Covariance matrix\n",
        "\"\"\"\n",
        "\n",
        "  X = X - np.mean(X, 0)\n",
        "  cov_matrix = 1 / X.shape[0] * np.matmul(X.T, X)\n",
        "  return cov_matrix\n",
        "\n",
        "\n",
        "def sort_evals_descending(evals, evectors):\n",
        "  \"\"\"\n",
        "  Sorts eigenvalues and eigenvectors in decreasing order. Also aligns first two\n",
        "  eigenvectors to be in first two quadrants (if 2D).\n",
        "\n",
        "  Args:\n",
        "    evals (numpy array of floats)    :   Vector of eigenvalues\n",
        "    evectors (numpy array of floats) :   Corresponding matrix of eigenvectors\n",
        "                                         each column corresponds to a different\n",
        "                                         eigenvalue\n",
        "\n",
        "  Returns:\n",
        "    (numpy array of floats)          : Vector of eigenvalues after sorting\n",
        "    (numpy array of floats)          : Matrix of eigenvectors after sorting\n",
        "  \"\"\"\n",
        "\n",
        "  index = np.flip(np.argsort(evals))\n",
        "  evals = evals[index]\n",
        "  evectors = evectors[:, index]\n",
        "  if evals.shape[0] == 2:\n",
        "    if np.arccos(np.matmul(evectors[:, 0],\n",
        "                           1 / np.sqrt(2) * np.array([1, 1]))) > np.pi / 2:\n",
        "      evectors[:, 0] = -evectors[:, 0]\n",
        "    if np.arccos(np.matmul(evectors[:, 1],\n",
        "                           1 / np.sqrt(2)*np.array([-1, 1]))) > np.pi / 2:\n",
        "      evectors[:, 1] = -evectors[:, 1]\n",
        "\n",
        "  return evals, evectors\n",
        "\n",
        "\n",
        "def pca(X):\n",
        "  \"\"\"\n",
        "  Performs PCA on multivariate data. Eigenvalues are sorted in decreasing order\n",
        "\n",
        "  Args:\n",
        "     X (numpy array of floats) :   Data matrix each column corresponds to a\n",
        "                                   different random variable\n",
        "\n",
        "  Returns:\n",
        "    (numpy array of floats)    : Data projected onto the new basis\n",
        "    (numpy array of floats)    : Corresponding matrix of eigenvectors\n",
        "    (numpy array of floats)    : Vector of eigenvalues\n",
        "\n",
        "  \"\"\"\n",
        "\n",
        "  X = X - np.mean(X, 0)\n",
        "  cov_matrix = get_sample_cov_matrix(X)\n",
        "  evals, evectors = np.linalg.eigh(cov_matrix)\n",
        "  evals, evectors = sort_evals_descending(evals, evectors)\n",
        "  score = change_of_basis(X, evectors)\n",
        "\n",
        "  return score, evectors, evals"
      ]
    },
    {
      "cell_type": "markdown",
      "metadata": {
        "execution": {},
        "id": "mFl629gixDF_"
      },
      "source": [
        "---\n",
        "# Section 1: Perform PCA on MNIST\n",
        "\n",
        "The MNIST dataset consists of 70,000 images of individual handwritten digits. Each image is a 28x28 pixel grayscale image. For convenience, each 28x28 pixel image is often unravelled into a single 784 (=28x28) element vector, so that the whole dataset is represented as a 70,000 x 784 matrix. Each row represents a different image, and each column represents a different pixel.\n",
        " \n",
        "Enter the following cell to load the MNIST dataset and plot the first nine images. It may take a few minutes to load."
      ]
    },
    {
      "cell_type": "code",
      "execution_count": 5,
      "metadata": {
        "execution": {},
        "id": "j2ht_NkjxDGA",
        "outputId": "c0a6a800-ebbd-4bc3-a1ac-604ab97ac2da",
        "colab": {
          "base_uri": "https://localhost:8080/",
          "height": 430
        }
      },
      "outputs": [
        {
          "output_type": "display_data",
          "data": {
            "text/plain": [
              "<Figure size 576x432 with 1 Axes>"
            ],
            "image/png": "[encoded data removed]"
          },
          "metadata": {
            "image/png": {
              "width": 418,
              "height": 413
            }
          }
        }
      ],
      "source": [
        "from sklearn.datasets import fetch_openml\n",
        "\n",
        "# GET mnist data\n",
        "mnist = fetch_openml(name='mnist_784', as_frame = False)\n",
        "X = mnist.data\n",
        "\n",
        "# Visualize\n",
        "plot_MNIST_sample(X)"
      ]
    },
    {
      "cell_type": "markdown",
      "metadata": {
        "execution": {},
        "id": "_8Ezh74nxDGB"
      },
      "source": [
        "The MNIST dataset has an extrinsic dimensionality of 784, much higher than the 2-dimensional examples used in the previous tutorials! To make sense of this data, we'll use dimensionality reduction. But first, we need to determine the intrinsic dimensionality $K$ of the data. One way to do this is to look for an \"elbow\" in the scree plot, to determine which eigenvalues are significant."
      ]
    },
    {
      "cell_type": "markdown",
      "metadata": {
        "execution": {},
        "id": "_NJ8GWcNxDGB"
      },
      "source": [
        "## Coding Exercise 1: Scree plot of MNIST\n",
        "\n",
        "In this exercise you will examine the scree plot in the MNIST dataset.\n",
        "\n",
        "**Steps:**\n",
        "- Perform PCA on the dataset using our function `pca` from tutorial 2 (already loaded in) and examine the scree plot. \n",
        "- When do the eigenvalues appear (by eye) to reach zero? (**Hint:** use `plt.xlim` to zoom into a section of the plot).\n"
      ]
    },
    {
      "cell_type": "code",
      "execution_count": 6,
      "metadata": {
        "execution": {},
        "id": "muuKdtsGxDGD",
        "outputId": "cf44b459-b29c-4fd6-a144-ed63fc4db3d5",
        "colab": {
          "base_uri": "https://localhost:8080/"
        }
      },
      "outputs": [
        {
          "output_type": "stream",
          "name": "stdout",
          "text": [
            "Help on function pca in module __main__:\n",
            "\n",
            "pca(X)\n",
            "    Performs PCA on multivariate data. Eigenvalues are sorted in decreasing order\n",
            "    \n",
            "    Args:\n",
            "       X (numpy array of floats) :   Data matrix each column corresponds to a\n",
            "                                     different random variable\n",
            "    \n",
            "    Returns:\n",
            "      (numpy array of floats)    : Data projected onto the new basis\n",
            "      (numpy array of floats)    : Corresponding matrix of eigenvectors\n",
            "      (numpy array of floats)    : Vector of eigenvalues\n",
            "\n"
          ]
        }
      ],
      "source": [
        "help(pca)"
      ]
    },
    {
      "cell_type": "code",
      "execution_count": 10,
      "metadata": {
        "execution": {},
        "id": "IE-k7f4SxDGD",
        "outputId": "7e584f8b-1a77-4ed5-b93e-4a3e7f05c50c",
        "colab": {
          "base_uri": "https://localhost:8080/",
          "height": 430
        }
      },
      "outputs": [
        {
          "output_type": "display_data",
          "data": {
            "text/plain": [
              "<Figure size 576x432 with 1 Axes>"
            ],
            "image/png": "[encoded data removed]"
          },
          "metadata": {
            "image/png": {
              "width": 558,
              "height": 413
            },
            "needs_background": "light"
          }
        }
      ],
      "source": [
        "#################################################\n",
        "## TODO for students\n",
        "# Fill out function and remove\n",
        "# raise NotImplementedError(\"Student exercise: perform PCA and visualize scree plot\")\n",
        "# #################################################\n",
        "\n",
        "# Perform PCA\n",
        "score, evectors, evals = pca(X)\n",
        "\n",
        "# Plot the eigenvalues\n",
        "plot_eigenvalues(evals, limit=False)\n",
        "# plt.xlim(100)  # limit x-axis up to 100 for zooming"
      ]
    },
    {
      "cell_type": "markdown",
      "metadata": {
        "execution": {},
        "id": "djrzlGpyxDGE"
      },
      "source": [
        "[*Click for solution*](https://github.com/NeuromatchAcademy/course-content/tree/main//tutorials/W1D4_DimensionalityReduction/solutions/W1D4_Tutorial3_Solution_d8411e54.py)\n",
        "\n",
        "*Example output:*\n",
        "\n",
        "<img alt='Solution hint' align='left' width=849.0 height=561.0 src=https://raw.githubusercontent.com/NeuromatchAcademy/course-content/main/tutorials/W1D4_DimensionalityReduction/static/W1D4_Tutorial3_Solution_d8411e54_0.png>\n",
        "\n"
      ]
    },
    {
      "cell_type": "markdown",
      "metadata": {
        "execution": {},
        "id": "JAC-8T6uxDGF"
      },
      "source": [
        "---\n",
        "# Section 2: Calculate the variance explained\n",
        "\n",
        "*Estimated timing to here from start of tutorial: 15 min*\n",
        "\n",
        "The scree plot suggests that most of the eigenvalues are near zero, with fewer than 100 having large values. Another common way to determine the intrinsic dimensionality is by considering the variance explained. This can be examined with a cumulative plot of the fraction of the total variance explained by the top $K$ components, i.e.,\n",
        "\n",
        "\\begin{equation}\n",
        "\\text{var explained} = \\frac{\\sum_{i=1}^K \\lambda_i}{\\sum_{i=1}^N \\lambda_i}\n",
        "\\end{equation}\n",
        "\n",
        "where $\\lambda_i$ is the $i^{th}$ eigenvalue and $N$ is the total number of components (the original number of dimensions in the data).\n",
        "\n",
        "The intrinsic dimensionality is often quantified by the $K$ necessary to explain a large proportion of the total variance of the data (often a defined threshold, e.g., 90%)."
      ]
    },
    {
      "cell_type": "markdown",
      "metadata": {
        "execution": {},
        "id": "WnQcuwisxDGF"
      },
      "source": [
        "## Coding Exercise 2: Plot the explained variance\n",
        "\n",
        "In this exercise you will plot the explained variance.\n",
        "\n",
        "**Steps:**\n",
        "- Fill in the function below to calculate the fraction variance explained as a function of the number of principal components. **Hint:** use `np.cumsum`.\n",
        "- Plot the variance explained using `plot_variance_explained`.\n",
        "\n",
        "**Questions:**\n",
        "- How many principal components are required to explain 90% of the variance?\n",
        "- How does the intrinsic dimensionality of this dataset compare to its extrinsic dimensionality?\n"
      ]
    },
    {
      "cell_type": "code",
      "execution_count": 11,
      "metadata": {
        "execution": {},
        "id": "EfKlRRPUxDGG",
        "outputId": "e69223de-bb12-4de8-b094-dfac9289e142",
        "colab": {
          "base_uri": "https://localhost:8080/",
          "height": 430
        }
      },
      "outputs": [
        {
          "output_type": "display_data",
          "data": {
            "text/plain": [
              "<Figure size 576x432 with 1 Axes>"
            ],
            "image/png": "[encoded data removed]"
          },
          "metadata": {
            "image/png": {
              "width": 558,
              "height": 413
            },
            "needs_background": "light"
          }
        }
      ],
      "source": [
        "def get_variance_explained(evals):\n",
        "  \"\"\"\n",
        "  Calculates variance explained from the eigenvalues.\n",
        "\n",
        "  Args:\n",
        "    evals (numpy array of floats) : Vector of eigenvalues\n",
        "\n",
        "  Returns:\n",
        "    (numpy array of floats)       : Vector of variance explained\n",
        "\n",
        "  \"\"\"\n",
        "\n",
        "  #################################################\n",
        "  ## TO DO for students: calculate the explained variance using the equation\n",
        "  ## from Section 2.\n",
        "  # Comment once you've filled in the function\n",
        "  # raise NotImplementedError(\"Student exercise: calculate explain variance!\")\n",
        "  #################################################\n",
        "\n",
        "  # Cumulatively sum the eigenvalues\n",
        "  csum = np.cumsum(evals)\n",
        "\n",
        "  # Normalize by the sum of eigenvalues\n",
        "  variance_explained = csum / np.sum(evals)\n",
        "\n",
        "  return variance_explained\n",
        "\n",
        "\n",
        "# Calculate the variance explained\n",
        "variance_explained = get_variance_explained(evals)\n",
        "\n",
        "# Visualize\n",
        "plot_variance_explained(variance_explained)"
      ]
    },
    {
      "cell_type": "markdown",
      "metadata": {
        "execution": {},
        "id": "lknJfxpgxDGG"
      },
      "source": [
        "[*Click for solution*](https://github.com/NeuromatchAcademy/course-content/tree/main//tutorials/W1D4_DimensionalityReduction/solutions/W1D4_Tutorial3_Solution_a4ac4c9c.py)\n",
        "\n",
        "*Example output:*\n",
        "\n",
        "<img alt='Solution hint' align='left' width=831.0 height=544.0 src=https://raw.githubusercontent.com/NeuromatchAcademy/course-content/main/tutorials/W1D4_DimensionalityReduction/static/W1D4_Tutorial3_Solution_a4ac4c9c_0.png>\n",
        "\n"
      ]
    },
    {
      "cell_type": "markdown",
      "metadata": {
        "execution": {},
        "id": "Eico5_Q-xDGH"
      },
      "source": [
        "---\n",
        "# Section 3: Reconstruct data with different numbers of PCs\n",
        "\n",
        "*Estimated timing to here from start of tutorial: 25 min*\n",
        "\n"
      ]
    },
    {
      "cell_type": "markdown",
      "metadata": {
        "id": "k5Iyx5MIxDGH"
      },
      "source": [
        "##  Video 2: Data Reconstruction\n"
      ]
    },
    {
      "cell_type": "code",
      "execution_count": null,
      "metadata": {
        "cellView": "form",
        "execution": {},
        "tags": [
          "remove-input"
        ],
        "id": "yMbMQjgKxDGH"
      },
      "outputs": [],
      "source": [
        "# @title Video 2: Data Reconstruction\n",
        "from ipywidgets import widgets\n",
        "\n",
        "out2 = widgets.Output()\n",
        "with out2:\n",
        "  from IPython.display import IFrame\n",
        "  class BiliVideo(IFrame):\n",
        "      def __init__(self, id, page=1, width=400, height=300, **kwargs):\n",
        "          self.id=id\n",
        "          src = 'https://player.bilibili.com/player.html?bvid={0}&page={1}'.format(id, page)\n",
        "          super(BiliVideo, self).__init__(src, width, height, **kwargs)\n",
        "\n",
        "  video = BiliVideo(id=\"BV1XK4y1s7KF\", width=730, height=410, fs=1)\n",
        "  print('Video available at https://www.bilibili.com/video/{0}'.format(video.id))\n",
        "  display(video)\n",
        "\n",
        "out1 = widgets.Output()\n",
        "with out1:\n",
        "  from IPython.display import YouTubeVideo\n",
        "  video = YouTubeVideo(id=\"ZCUhW26AdBQ\", width=730, height=410, fs=1, rel=0)\n",
        "  print('Video available at https://youtube.com/watch?v=' + video.id)\n",
        "  display(video)\n",
        "\n",
        "out = widgets.Tab([out1, out2])\n",
        "out.set_title(0, 'Youtube')\n",
        "out.set_title(1, 'Bilibili')\n",
        "\n",
        "display(out)"
      ]
    },
    {
      "cell_type": "markdown",
      "metadata": {
        "execution": {},
        "id": "A6ioQNlIxDGI"
      },
      "source": [
        "Now we have seen that the top 100 or so principal components of the data can explain most of the variance. We can use this fact to perform *dimensionality reduction*, i.e., by storing the data using only 100 components rather than the samples of all 784 pixels. Remarkably, we will be able to reconstruct much of the structure of the data using only the top 100 components. To see this, recall that to perform PCA we projected the data $\\bf X$ onto the eigenvectors of the covariance matrix:\n",
        "\n",
        "\\begin{equation}\n",
        "\\bf S = X W\n",
        "\\end{equation}\n",
        "\n",
        "Since $\\bf W$ is an orthogonal matrix, ${\\bf W}^{-1} = {\\bf W}^\\top$. So by multiplying by ${\\bf W}^\\top$ on each side we can rewrite this equation as  \n",
        "\n",
        "\\begin{equation}\n",
        "{\\bf X = S W}^\\top.\n",
        "\\end{equation}\n",
        "\n",
        "This now gives us a way to reconstruct the data matrix from the scores and loadings. To reconstruct the data from a low-dimensional approximation, we just have to truncate these matrices.  Let's denote ${\\bf S}_{1:K}$ and ${\\bf W}_{1:K}$ the matrices with only the first $K$ columns of $\\bf S$ and $\\bf W$, respectively. Then our reconstruction is:\n",
        "\n",
        "\\begin{equation}\n",
        "{\\bf \\hat X = S}_{1:K} ({\\bf W}_{1:K})^\\top.\n",
        "\\end{equation}"
      ]
    },
    {
      "cell_type": "markdown",
      "metadata": {
        "execution": {},
        "id": "yZD06rzRxDGI"
      },
      "source": [
        "## Coding Exercise 3: Data reconstruction\n",
        "\n",
        "Fill in the function below to reconstruct the data using different numbers of principal components. \n",
        "\n",
        "**Steps:**\n",
        "\n",
        "* Fill in the following function to reconstruct the data based on the weights and scores. Don't forget to add the mean!\n",
        "* Make sure your function works by reconstructing the data with all $K=784$ components. The two images should look identical."
      ]
    },
    {
      "cell_type": "code",
      "execution_count": 13,
      "metadata": {
        "execution": {},
        "id": "laVioMgcxDGJ",
        "outputId": "0ec2645e-736e-4994-e560-3ceec5272d8e",
        "colab": {
          "base_uri": "https://localhost:8080/",
          "height": 309
        }
      },
      "outputs": [
        {
          "output_type": "display_data",
          "data": {
            "text/plain": [
              "<Figure size 576x432 with 2 Axes>"
            ],
            "image/png": "[encoded data removed]"
          },
          "metadata": {
            "image/png": {
              "width": 558,
              "height": 292
            }
          }
        }
      ],
      "source": [
        "def reconstruct_data(score, evectors, X_mean, K):\n",
        "  \"\"\"\n",
        "  Reconstruct the data based on the top K components.\n",
        "\n",
        "  Args:\n",
        "    score (numpy array of floats)    : Score matrix\n",
        "    evectors (numpy array of floats) : Matrix of eigenvectors\n",
        "    X_mean (numpy array of floats)   : Vector corresponding to data mean\n",
        "    K (scalar)                       : Number of components to include\n",
        "\n",
        "  Returns:\n",
        "    (numpy array of floats)          : Matrix of reconstructed data\n",
        "\n",
        "  \"\"\"\n",
        "\n",
        "  #################################################\n",
        "  ## TO DO for students: Reconstruct the original data in X_reconstructed\n",
        "  # Comment once you've filled in the function\n",
        "  # raise NotImplementedError(\"Student exercise: reconstructing data function!\")\n",
        "  #################################################\n",
        "\n",
        "  # Reconstruct the data from the score and eigenvectors\n",
        "  # Don't forget to add the mean!!\n",
        "  X_reconstructed =   np.matmul(score[:, :K], evectors[:, :K].T) + X_mean\n",
        "\n",
        "\n",
        "  return X_reconstructed\n",
        "\n",
        "\n",
        "K = 784\n",
        "\n",
        "# Reconstruct the data based on all components\n",
        "X_mean = np.mean(X, 0)\n",
        "X_reconstructed = reconstruct_data(score, evectors, X_mean, K)\n",
        "\n",
        "# Plot the data and reconstruction\n",
        "plot_MNIST_reconstruction(X, X_reconstructed)"
      ]
    },
    {
      "cell_type": "markdown",
      "metadata": {
        "execution": {},
        "id": "p39OebdjxDGJ"
      },
      "source": [
        "[*Click for solution*](https://github.com/NeuromatchAcademy/course-content/tree/main//tutorials/W1D4_DimensionalityReduction/solutions/W1D4_Tutorial3_Solution_e3395916.py)\n",
        "\n",
        "*Example output:*\n",
        "\n",
        "<img alt='Solution hint' align='left' width=849.0 height=451.0 src=https://raw.githubusercontent.com/NeuromatchAcademy/course-content/main/tutorials/W1D4_DimensionalityReduction/static/W1D4_Tutorial3_Solution_e3395916_0.png>\n",
        "\n"
      ]
    },
    {
      "cell_type": "markdown",
      "metadata": {
        "execution": {},
        "id": "DKTMYOEkxDGK"
      },
      "source": [
        "## Interactive Demo 3: Reconstruct the data matrix using different numbers of PCs\n",
        "\n",
        "Now run the code below and experiment with the slider to reconstruct the data matrix using different numbers of principal components.\n",
        "\n",
        "1.  How many principal components are necessary to reconstruct the numbers (by eye)? How does this relate to the intrinsic dimensionality of the data?\n",
        "2.  Do you see any information in the data with only a single principal component?"
      ]
    },
    {
      "cell_type": "markdown",
      "metadata": {
        "id": "Y2gynwdZxDGL"
      },
      "source": [
        "### \n"
      ]
    },
    {
      "cell_type": "markdown",
      "metadata": {
        "id": "O9dk5BlXxDGL"
      },
      "source": [
        " Make sure you execute this cell to enable the widget!\n"
      ]
    },
    {
      "cell_type": "code",
      "execution_count": 14,
      "metadata": {
        "execution": {},
        "tags": [
          "hide-input"
        ],
        "id": "_igZVMVoxDGM",
        "outputId": "14682214-6930-4cfc-9174-82ff99a6ee23",
        "colab": {
          "base_uri": "https://localhost:8080/",
          "height": 341,
          "referenced_widgets": [
            "3c6fc2b26d5843848de9eb23928419d9",
            "00913002540343afbc54eec9dd917dd1",
            "8982ff7e8bb241f79f2c5673a806f52b",
            "fec947b94582462fbadd4b5084f4ff0f",
            "04e131be45dd439b91f1b59d5835d552",
            "451c9b138bab48b2a5fa4539c3530e1b",
            "e4a9ecf44d9f4fdd8f1a400b8717b308"
          ]
        }
      },
      "outputs": [
        {
          "output_type": "display_data",
          "data": {
            "text/plain": [
              "interactive(children=(IntSlider(value=100, description='K', max=784, min=1, step=10), Output()), _dom_classes=…"
            ],
            "application/vnd.jupyter.widget-view+json": {
              "version_major": 2,
              "version_minor": 0,
              "model_id": "3c6fc2b26d5843848de9eb23928419d9"
            }
          },
          "metadata": {}
        }
      ],
      "source": [
        "# @title\n",
        "\n",
        "# @markdown Make sure you execute this cell to enable the widget!\n",
        "\n",
        "\n",
        "def refresh(K=100):\n",
        "  X_reconstructed = reconstruct_data(score, evectors, X_mean, K)\n",
        "  plot_MNIST_reconstruction(X, X_reconstructed)\n",
        "  plt.title('Reconstructed, K={}'.format(K))\n",
        "\n",
        "\n",
        "_ = widgets.interact(refresh, K=(1, 784, 10))"
      ]
    },
    {
      "cell_type": "markdown",
      "metadata": {
        "execution": {},
        "id": "cLdf2CPpxDGM"
      },
      "source": [
        "[*Click for solution*](https://github.com/NeuromatchAcademy/course-content/tree/main//tutorials/W1D4_DimensionalityReduction/solutions/W1D4_Tutorial3_Solution_f041ae81.py)\n",
        "\n"
      ]
    },
    {
      "cell_type": "markdown",
      "metadata": {
        "execution": {},
        "id": "hBqzStd1xDGM"
      },
      "source": [
        "---\n",
        "# Section 4: Visualize PCA components\n",
        "\n",
        "*Estimated timing to here from start of tutorial: 40 min*"
      ]
    },
    {
      "cell_type": "markdown",
      "metadata": {
        "execution": {},
        "id": "QML9hSJUxDGN"
      },
      "source": [
        "## Coding Exercise 4: Visualization of the weights\n",
        "\n",
        "Next, let's take a closer look at the first principal component by visualizing its corresponding weights. \n",
        "\n",
        "**Steps:**\n",
        "\n",
        "* Enter `plot_MNIST_weights` to visualize the weights of the first basis vector.\n",
        "* What structure do you see? Which pixels have a strong positive weighting? Which have a strong negative weighting? What kinds of images would this basis vector differentiate (hint: think about the last demo with 1 component)?\n",
        "* Try visualizing the second and third basis vectors. Do you see any structure? What about the 100th basis vector? 500th? 700th?"
      ]
    },
    {
      "cell_type": "code",
      "execution_count": 15,
      "metadata": {
        "execution": {},
        "id": "puGVW6p9xDGN",
        "outputId": "78b7cd18-8405-4498-afff-f42ddea00923",
        "colab": {
          "base_uri": "https://localhost:8080/"
        }
      },
      "outputs": [
        {
          "output_type": "stream",
          "name": "stdout",
          "text": [
            "Help on function plot_MNIST_weights in module __main__:\n",
            "\n",
            "plot_MNIST_weights(weights)\n",
            "    Visualize PCA basis vector weights for MNIST. Red = positive weights,\n",
            "    blue = negative weights, white = zero weight.\n",
            "    \n",
            "    Args:\n",
            "       weights (numpy array of floats) : PCA basis vector\n",
            "    \n",
            "    Returns:\n",
            "       Nothing.\n",
            "\n"
          ]
        }
      ],
      "source": [
        "help(plot_MNIST_weights)"
      ]
    },
    {
      "cell_type": "code",
      "execution_count": 17,
      "metadata": {
        "execution": {},
        "id": "TzRJZtj7xDGN",
        "outputId": "80518f2e-c092-4821-b3ab-19e6dbee7683",
        "colab": {
          "base_uri": "https://localhost:8080/",
          "height": 431
        }
      },
      "outputs": [
        {
          "output_type": "display_data",
          "data": {
            "text/plain": [
              "<Figure size 576x432 with 2 Axes>"
            ],
            "image/png": "[encoded data removed]"
          },
          "metadata": {
            "image/png": {
              "width": 500,
              "height": 414
            },
            "needs_background": "light"
          }
        }
      ],
      "source": [
        "################################################################\n",
        "# Comment once you've filled in the function\n",
        "# raise NotImplementedError(\"Student exercise: visualize PCA components\")\n",
        "################################################################\n",
        "\n",
        "# Plot the weights of the first principal component\n",
        "plot_MNIST_weights(evectors[:, 1])"
      ]
    },
    {
      "cell_type": "markdown",
      "metadata": {
        "execution": {},
        "id": "ThjZhalDxDGO"
      },
      "source": [
        "[*Click for solution*](https://github.com/NeuromatchAcademy/course-content/tree/main//tutorials/W1D4_DimensionalityReduction/solutions/W1D4_Tutorial3_Solution_d27990ad.py)\n",
        "\n",
        "*Example output:*\n",
        "\n",
        "<img alt='Solution hint' align='left' width=682.0 height=544.0 src=https://raw.githubusercontent.com/NeuromatchAcademy/course-content/main/tutorials/W1D4_DimensionalityReduction/static/W1D4_Tutorial3_Solution_d27990ad_0.png>\n",
        "\n"
      ]
    },
    {
      "cell_type": "markdown",
      "metadata": {
        "execution": {},
        "id": "kk7xknKTxDGO"
      },
      "source": [
        "---\n",
        "# Summary\n",
        "\n",
        "*Estimated timing of tutorial: 50 minutes*\n",
        "\n",
        "* In this tutorial, we learned how to use PCA for dimensionality reduction by selecting the top principal components. This can be useful as the intrinsic dimensionality ($K$) is often less than the extrinsic dimensionality ($N$) in neural data. $K$ can be inferred by choosing the number of eigenvalues necessary to capture some fraction of the variance.\n",
        "* We also learned how to reconstruct an approximation of the original data using the top $K$ principal components. In fact, an alternate formulation of PCA is to find the $K$ dimensional space that minimizes the reconstruction error.\n",
        "* Noise tends to inflate the apparent intrinsic dimensionality, however the higher components reflect noise rather than new structure in the data. PCA can be used for denoising data by removing noisy higher components.\n",
        "* In MNIST, the weights corresponding to the first principal component appear to discriminate between a 0 and 1. We will discuss the implications of this for data visualization in the following tutorial."
      ]
    },
    {
      "cell_type": "markdown",
      "metadata": {
        "execution": {},
        "id": "_WcKYff-xDGP"
      },
      "source": [
        "---\n",
        "# Notation\n",
        "\n",
        "\\begin{align}\n",
        "K &\\quad \\text{selected number of principal components}\\\\\n",
        "N &\\quad \\text{total number of principal components}\\\\\n",
        "\\bf W &\\quad \\text{weights, loadings matrix}\\\\\n",
        "{\\bf X} &\\quad \\text{original data matrix}\\\\\n",
        "\\bf S &\\quad \\text{projected matrix, scores}\\\\\n",
        "{\\bf S}_{1:K} &\\quad \\text{first K columns of score matrix } \\bf S\\\\\n",
        "{\\bf W}_{1:K} &\\quad \\text{first K columns of weight matrix } \\bf W\\\\\n",
        "\\end{align}"
      ]
    },
    {
      "cell_type": "markdown",
      "metadata": {
        "execution": {},
        "id": "psN8jYx7xDGP"
      },
      "source": [
        "---\n",
        "# Bonus"
      ]
    },
    {
      "cell_type": "markdown",
      "metadata": {
        "execution": {},
        "id": "5WNxDOxrxDGQ"
      },
      "source": [
        "---\n",
        "## Bonus Section 1: Examine denoising using PCA\n",
        "\n",
        "In this lecture, we saw that PCA finds an optimal low-dimensional basis to minimize the reconstruction error. Because of this property, PCA can be useful for denoising corrupted samples of the data."
      ]
    },
    {
      "cell_type": "markdown",
      "metadata": {
        "execution": {},
        "id": "x65eCgx9xDGQ"
      },
      "source": [
        "### Bonus Coding Exercise 1: Add noise to the data\n",
        "In this exercise you will add salt-and-pepper noise to the original data and see how that affects the eigenvalues. \n",
        "\n",
        "**Steps:**\n",
        "- Use the function `add_noise` to add noise to 20% of the pixels.\n",
        "- Then, perform PCA and plot the variance explained. How many principal components are required to explain 90% of the variance? How does this compare to the original data? \n"
      ]
    },
    {
      "cell_type": "code",
      "execution_count": 18,
      "metadata": {
        "execution": {},
        "id": "SwVb01JJxDGQ",
        "outputId": "20cecef1-26a6-4531-d129-c2f3ffbf154b",
        "colab": {
          "base_uri": "https://localhost:8080/"
        }
      },
      "outputs": [
        {
          "output_type": "stream",
          "name": "stdout",
          "text": [
            "Help on function add_noise in module __main__:\n",
            "\n",
            "add_noise(X, frac_noisy_pixels)\n",
            "    Randomly corrupts a fraction of the pixels by setting them to random values.\n",
            "    \n",
            "    Args:\n",
            "       X (numpy array of floats)  : Data matrix\n",
            "       frac_noisy_pixels (scalar) : Fraction of noisy pixels\n",
            "    \n",
            "    Returns:\n",
            "       (numpy array of floats)    : Data matrix + noise\n",
            "\n"
          ]
        }
      ],
      "source": [
        "help(add_noise)"
      ]
    },
    {
      "cell_type": "code",
      "execution_count": null,
      "metadata": {
        "execution": {},
        "id": "QqVoW7bVxDGR"
      },
      "outputs": [],
      "source": [
        "#################################################\n",
        "## TO DO for students\n",
        "# Comment once you've filled in the function\n",
        "# raise NotImplementedError(\"Student exercise: make MNIST noisy and compute PCA!\")\n",
        "#################################################\n",
        "\n",
        "np.random.seed(2020)  # set random seed\n",
        "\n",
        "# Add noise to data\n",
        "X_noisy = ...\n",
        "\n",
        "# Perform PCA on noisy data\n",
        "score_noisy, evectors_noisy, evals_noisy = ...\n",
        "\n",
        "# Compute variance explained\n",
        "variance_explained_noisy = ...\n",
        "\n",
        "# Visualize\n",
        "plot_MNIST_sample(X_noisy)\n",
        "plot_variance_explained(variance_explained_noisy)"
      ]
    },
    {
      "cell_type": "markdown",
      "metadata": {
        "execution": {},
        "id": "z7CQJd0-xDGR"
      },
      "source": [
        "[*Click for solution*](https://github.com/NeuromatchAcademy/course-content/tree/main//tutorials/W1D4_DimensionalityReduction/solutions/W1D4_Tutorial3_Solution_9615a6cd.py)\n",
        "\n"
      ]
    },
    {
      "cell_type": "markdown",
      "metadata": {
        "execution": {},
        "id": "kMsKt9jgxDGS"
      },
      "source": [
        "### Bonus Coding Exercise 2: Denoising\n",
        "\n",
        "Next, use PCA to perform denoising by projecting the noise-corrupted data onto the basis vectors found from the original dataset. By taking the top K components of this projection, we can reduce noise in dimensions orthogonal to the K-dimensional latent space. \n",
        "\n",
        "**Steps:**\n",
        "- Subtract the mean of the noise-corrupted data.\n",
        "- Project the data onto the basis found with the original dataset (`evectors`, not `evectors_noisy`) and take the top $K$ components. \n",
        "- Reconstruct the data as normal, using the top 50 components. \n",
        "- Play around with the amount of noise and K to build intuition.\n"
      ]
    },
    {
      "cell_type": "code",
      "execution_count": 19,
      "metadata": {
        "execution": {},
        "id": "M_MskvrlxDGS",
        "outputId": "892cdcce-29ac-4da4-a41a-6b79cf7ec9e8",
        "colab": {
          "base_uri": "https://localhost:8080/",
          "height": 309
        }
      },
      "outputs": [
        {
          "output_type": "display_data",
          "data": {
            "text/plain": [
              "<Figure size 576x432 with 2 Axes>"
            ],
            "image/png": "[encoded data removed]"
          },
          "metadata": {
            "image/png": {
              "width": 558,
              "height": 292
            }
          }
        }
      ],
      "source": [
        "#################################################\n",
        "## TO DO for students\n",
        "# Comment once you've filled in the function\n",
        "# raise NotImplementedError(\"Student exercise: reconstruct noisy data from PCA\")\n",
        "#################################################\n",
        "\n",
        "np.random.seed(2020)  # set random seed\n",
        "\n",
        "# Add noise to data\n",
        "X_noisy = add_noise(X, .2)\n",
        "\n",
        "# Compute mean of noise-corrupted data\n",
        "X_noisy_mean = np.mean(X_noisy, 0)\n",
        "\n",
        "# Project onto the original basis vectors\n",
        "projX_noisy = np.matmul(X_noisy - X_noisy_mean, evectors) # substract the mean \n",
        "\n",
        "# Reconstruct the data using the top 50 components\n",
        "X_reconstructed = reconstruct_data(projX_noisy, evectors, X_noisy_mean, 50)\n",
        "\n",
        "# Visualize\n",
        "plot_MNIST_reconstruction(X_noisy, X_reconstructed)"
      ]
    },
    {
      "cell_type": "markdown",
      "metadata": {
        "execution": {},
        "id": "0i5sSSyyxDGS"
      },
      "source": [
        "[*Click for solution*](https://github.com/NeuromatchAcademy/course-content/tree/main//tutorials/W1D4_DimensionalityReduction/solutions/W1D4_Tutorial3_Solution_38d38d89.py)\n",
        "\n",
        "*Example output:*\n",
        "\n",
        "<img alt='Solution hint' align='left' width=849.0 height=451.0 src=https://raw.githubusercontent.com/NeuromatchAcademy/course-content/main/tutorials/W1D4_DimensionalityReduction/static/W1D4_Tutorial3_Solution_38d38d89_0.png>\n",
        "\n"
      ]
    }
  ],
  "metadata": {
    "colab": {
      "collapsed_sections": [
        "NgVDJxt9fWm9",
        "KXKX7e8hfWnB"
      ],
      "name": "W1D4_Tutorial3",
      "provenance": [],
      "include_colab_link": true
    },
    "kernel": {
      "display_name": "Python 3",
      "language": "python",
      "name": "python3"
    },
    "kernelspec": {
      "display_name": "Python 3",
      "language": "python",
      "name": "python3"
    },
    "language_info": {
      "codemirror_mode": {
        "name": "ipython",
        "version": 3
      },
      "file_extension": ".py",
      "mimetype": "text/x-python",
      "name": "python",
      "nbconvert_exporter": "python",
      "pygments_lexer": "ipython3",
      "version": "3.7.13"
    },
    "widgets": {
      "application/vnd.jupyter.widget-state+json": {
        "3c6fc2b26d5843848de9eb23928419d9": {
          "model_module": "@jupyter-widgets/controls",
          "model_name": "VBoxModel",
          "model_module_version": "1.5.0",
          "state": {
            "_dom_classes": [
              "widget-interact"
            ],
            "_model_module": "@jupyter-widgets/controls",
            "_model_module_version": "1.5.0",
            "_model_name": "VBoxModel",
            "_view_count": null,
            "_view_module": "@jupyter-widgets/controls",
            "_view_module_version": "1.5.0",
            "_view_name": "VBoxView",
            "box_style": "",
            "children": [
              "IPY_MODEL_00913002540343afbc54eec9dd917dd1",
              "IPY_MODEL_8982ff7e8bb241f79f2c5673a806f52b"
            ],
            "layout": "IPY_MODEL_fec947b94582462fbadd4b5084f4ff0f"
          }
        },
        "00913002540343afbc54eec9dd917dd1": {
          "model_module": "@jupyter-widgets/controls",
          "model_name": "IntSliderModel",
          "model_module_version": "1.5.0",
          "state": {
            "_dom_classes": [],
            "_model_module": "@jupyter-widgets/controls",
            "_model_module_version": "1.5.0",
            "_model_name": "IntSliderModel",
            "_view_count": null,
            "_view_module": "@jupyter-widgets/controls",
            "_view_module_version": "1.5.0",
            "_view_name": "IntSliderView",
            "continuous_update": true,
            "description": "K",
            "description_tooltip": null,
            "disabled": false,
            "layout": "IPY_MODEL_04e131be45dd439b91f1b59d5835d552",
            "max": 784,
            "min": 1,
            "orientation": "horizontal",
            "readout": true,
            "readout_format": "d",
            "step": 10,
            "style": "IPY_MODEL_451c9b138bab48b2a5fa4539c3530e1b",
            "value": 181
          }
        },
        "8982ff7e8bb241f79f2c5673a806f52b": {
          "model_module": "@jupyter-widgets/output",
          "model_name": "OutputModel",
          "model_module_version": "1.0.0",
          "state": {
            "_dom_classes": [],
            "_model_module": "@jupyter-widgets/output",
            "_model_module_version": "1.0.0",
            "_model_name": "OutputModel",
            "_view_count": null,
            "_view_module": "@jupyter-widgets/output",
            "_view_module_version": "1.0.0",
            "_view_name": "OutputView",
            "layout": "IPY_MODEL_e4a9ecf44d9f4fdd8f1a400b8717b308",
            "msg_id": "",
            "outputs": [
              {
                "output_type": "display_data",
                "data": {
                  "text/plain": "<Figure size 576x432 with 2 Axes>",
                  "image/png": "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\n"
                },
                "metadata": {
                  "image/png": {
                    "width": 558,
                    "height": 292
                  }
                }
              }
            ]
          }
        },
        "fec947b94582462fbadd4b5084f4ff0f": {
          "model_module": "@jupyter-widgets/base",
          "model_name": "LayoutModel",
          "model_module_version": "1.2.0",
          "state": {
            "_model_module": "@jupyter-widgets/base",
            "_model_module_version": "1.2.0",
            "_model_name": "LayoutModel",
            "_view_count": null,
            "_view_module": "@jupyter-widgets/base",
            "_view_module_version": "1.2.0",
            "_view_name": "LayoutView",
            "align_content": null,
            "align_items": null,
            "align_self": null,
            "border": null,
            "bottom": null,
            "display": null,
            "flex": null,
            "flex_flow": null,
            "grid_area": null,
            "grid_auto_columns": null,
            "grid_auto_flow": null,
            "grid_auto_rows": null,
            "grid_column": null,
            "grid_gap": null,
            "grid_row": null,
            "grid_template_areas": null,
            "grid_template_columns": null,
            "grid_template_rows": null,
            "height": null,
            "justify_content": null,
            "justify_items": null,
            "left": null,
            "margin": null,
            "max_height": null,
            "max_width": null,
            "min_height": null,
            "min_width": null,
            "object_fit": null,
            "object_position": null,
            "order": null,
            "overflow": null,
            "overflow_x": null,
            "overflow_y": null,
            "padding": null,
            "right": null,
            "top": null,
            "visibility": null,
            "width": null
          }
        },
        "04e131be45dd439b91f1b59d5835d552": {
          "model_module": "@jupyter-widgets/base",
          "model_name": "LayoutModel",
          "model_module_version": "1.2.0",
          "state": {
            "_model_module": "@jupyter-widgets/base",
            "_model_module_version": "1.2.0",
            "_model_name": "LayoutModel",
            "_view_count": null,
            "_view_module": "@jupyter-widgets/base",
            "_view_module_version": "1.2.0",
            "_view_name": "LayoutView",
            "align_content": null,
            "align_items": null,
            "align_self": null,
            "border": null,
            "bottom": null,
            "display": null,
            "flex": null,
            "flex_flow": null,
            "grid_area": null,
            "grid_auto_columns": null,
            "grid_auto_flow": null,
            "grid_auto_rows": null,
            "grid_column": null,
            "grid_gap": null,
            "grid_row": null,
            "grid_template_areas": null,
            "grid_template_columns": null,
            "grid_template_rows": null,
            "height": null,
            "justify_content": null,
            "justify_items": null,
            "left": null,
            "margin": null,
            "max_height": null,
            "max_width": null,
            "min_height": null,
            "min_width": null,
            "object_fit": null,
            "object_position": null,
            "order": null,
            "overflow": null,
            "overflow_x": null,
            "overflow_y": null,
            "padding": null,
            "right": null,
            "top": null,
            "visibility": null,
            "width": null
          }
        },
        "451c9b138bab48b2a5fa4539c3530e1b": {
          "model_module": "@jupyter-widgets/controls",
          "model_name": "SliderStyleModel",
          "model_module_version": "1.5.0",
          "state": {
            "_model_module": "@jupyter-widgets/controls",
            "_model_module_version": "1.5.0",
            "_model_name": "SliderStyleModel",
            "_view_count": null,
            "_view_module": "@jupyter-widgets/base",
            "_view_module_version": "1.2.0",
            "_view_name": "StyleView",
            "description_width": "",
            "handle_color": null
          }
        },
        "e4a9ecf44d9f4fdd8f1a400b8717b308": {
          "model_module": "@jupyter-widgets/base",
          "model_name": "LayoutModel",
          "model_module_version": "1.2.0",
          "state": {
            "_model_module": "@jupyter-widgets/base",
            "_model_module_version": "1.2.0",
            "_model_name": "LayoutModel",
            "_view_count": null,
            "_view_module": "@jupyter-widgets/base",
            "_view_module_version": "1.2.0",
            "_view_name": "LayoutView",
            "align_content": null,
            "align_items": null,
            "align_self": null,
            "border": null,
            "bottom": null,
            "display": null,
            "flex": null,
            "flex_flow": null,
            "grid_area": null,
            "grid_auto_columns": null,
            "grid_auto_flow": null,
            "grid_auto_rows": null,
            "grid_column": null,
            "grid_gap": null,
            "grid_row": null,
            "grid_template_areas": null,
            "grid_template_columns": null,
            "grid_template_rows": null,
            "height": null,
            "justify_content": null,
            "justify_items": null,
            "left": null,
            "margin": null,
            "max_height": null,
            "max_width": null,
            "min_height": null,
            "min_width": null,
            "object_fit": null,
            "object_position": null,
            "order": null,
            "overflow": null,
            "overflow_x": null,
            "overflow_y": null,
            "padding": null,
            "right": null,
            "top": null,
            "visibility": null,
            "width": null
          }
        }
      }
    }
  },
  "nbformat": 4,
  "nbformat_minor": 0
}