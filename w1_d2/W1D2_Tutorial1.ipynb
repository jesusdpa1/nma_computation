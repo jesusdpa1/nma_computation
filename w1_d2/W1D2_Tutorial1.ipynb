{
  "cells": [
    {
      "cell_type": "markdown",
      "metadata": {
        "execution": {},
        "id": "g54flezkh2yh"
      },
      "source": [
        "# Tutorial 1: Linear regression with MSE\n",
        "\n",
        "**Week 1, Day 2: Model Fitting**\n",
        "\n",
        "**By Neuromatch Academy**\n",
        "\n",
        "**Content creators**: Pierre-Étienne Fiquet, Anqi Wu, Alex Hyafil with help from Byron Galbraith\n",
        "\n",
        "**Content reviewers**: Lina Teichmann, Saeed Salehi, Patrick Mineault,  Ella Batty, Michael Waskom"
      ]
    },
    {
      "cell_type": "markdown",
      "metadata": {
        "execution": {},
        "id": "taGE4GQTh2yl"
      },
      "source": [
        "<p align='center'><img src='https://github.com/NeuromatchAcademy/widgets/blob/master/sponsors.png?raw=True'/></p>"
      ]
    },
    {
      "cell_type": "markdown",
      "metadata": {
        "execution": {},
        "id": "MKcjemVnh2yl"
      },
      "source": [
        "___\n",
        "# Tutorial Objectives\n",
        "\n",
        "*Estimated timing of tutorial: 30 minutes*\n",
        "\n",
        "This is Tutorial 1 of a series on fitting models to data. We start with simple linear regression, using least squares optimization (Tutorial 1) and Maximum Likelihood Estimation (Tutorial 2). We will use bootstrapping to build confidence intervals around the inferred linear model parameters (Tutorial 3). We'll finish our exploration of regression models by generalizing to multiple linear regression and polynomial regression (Tutorial 4). We end by learning how to choose between these various models. We discuss the bias-variance trade-off (Tutorial 5) and Cross Validation for model selection (Tutorial 6).\n",
        "\n",
        "In this tutorial, we will learn how to fit simple linear models to data.\n",
        "- Learn how to calculate the mean-squared error (MSE) \n",
        "- Explore how model parameters (slope) influence the MSE\n",
        "- Learn how to find the optimal model parameter using least-squares optimization\n",
        "\n",
        "---\n",
        "\n",
        "**Acknowledgements:** \n",
        "- We thank Eero Simoncelli. Much of today's tutorials are inspired by exercises assigned in his mathtools class."
      ]
    },
    {
      "cell_type": "markdown",
      "metadata": {
        "id": "4QaVUIMTh2ym"
      },
      "source": [
        "##  Tutorial slides\n"
      ]
    },
    {
      "cell_type": "markdown",
      "metadata": {
        "id": "iHYCLcTEh2ym"
      },
      "source": [
        " These are the slides for the videos in all tutorials today\n"
      ]
    },
    {
      "cell_type": "code",
      "execution_count": null,
      "metadata": {
        "cellView": "form",
        "execution": {},
        "tags": [
          "remove-input"
        ],
        "id": "DPgASUSqh2yn"
      },
      "outputs": [],
      "source": [
        "# @title Tutorial slides\n",
        "\n",
        "# @markdown These are the slides for the videos in all tutorials today\n",
        "from IPython.display import IFrame\n",
        "IFrame(src=f\"https://mfr.ca-1.osf.io/render?url=https://osf.io/2mkq4/?direct%26mode=render%26action=download%26mode=render\", width=854, height=480)"
      ]
    },
    {
      "cell_type": "markdown",
      "metadata": {
        "execution": {},
        "id": "ZIWZLgKYh2yo"
      },
      "source": [
        "---\n",
        "# Setup"
      ]
    },
    {
      "cell_type": "code",
      "execution_count": 1,
      "metadata": {
        "cellView": "both",
        "execution": {},
        "id": "ZR0C5QSuh2yo"
      },
      "outputs": [],
      "source": [
        "import numpy as np\n",
        "import matplotlib.pyplot as plt"
      ]
    },
    {
      "cell_type": "markdown",
      "metadata": {
        "id": "AnKD_zkrh2yp"
      },
      "source": [
        "##  Figure Settings\n"
      ]
    },
    {
      "cell_type": "code",
      "execution_count": 2,
      "metadata": {
        "cellView": "form",
        "execution": {},
        "tags": [
          "hide-input"
        ],
        "id": "UOD0x0jeh2yp"
      },
      "outputs": [],
      "source": [
        "#@title Figure Settings\n",
        "import ipywidgets as widgets       # interactive display\n",
        "%config InlineBackend.figure_format = 'retina'\n",
        "plt.style.use(\"https://raw.githubusercontent.com/NeuromatchAcademy/course-content/main/nma.mplstyle\")"
      ]
    },
    {
      "cell_type": "markdown",
      "metadata": {
        "id": "ewn_6XWeh2yq"
      },
      "source": [
        "##  Plotting Functions\n"
      ]
    },
    {
      "cell_type": "code",
      "execution_count": 3,
      "metadata": {
        "cellView": "form",
        "execution": {},
        "tags": [
          "hide-input"
        ],
        "id": "hdvSc-62h2yq"
      },
      "outputs": [],
      "source": [
        "#@title Plotting Functions\n",
        "\n",
        "def plot_observed_vs_predicted(x, y, y_hat, theta_hat):\n",
        "  \"\"\" Plot observed vs predicted data\n",
        "\n",
        "  Args:\n",
        "    x (ndarray): observed x values\n",
        "    y (ndarray): observed y values\n",
        "    y_hat (ndarray): predicted y values\n",
        "    theta_hat (ndarray):\n",
        "  \"\"\"\n",
        "  fig, ax = plt.subplots()\n",
        "  ax.scatter(x, y, label='Observed')  # our data scatter plot\n",
        "  ax.plot(x, y_hat, color='r', label='Fit')  # our estimated model\n",
        "  # plot residuals\n",
        "  ymin = np.minimum(y, y_hat)\n",
        "  ymax = np.maximum(y, y_hat)\n",
        "  ax.vlines(x, ymin, ymax, 'g', alpha=0.5, label='Residuals')\n",
        "  ax.set(\n",
        "      title=fr\"$\\hat{{\\theta}}$ = {theta_hat:0.2f}, MSE = {np.mean((y - y_hat)**2):.2f}\",\n",
        "      xlabel='x',\n",
        "      ylabel='y'\n",
        "  )\n",
        "  ax.legend()"
      ]
    },
    {
      "cell_type": "markdown",
      "metadata": {
        "execution": {},
        "id": "Kwe--FL8h2yq"
      },
      "source": [
        "---\n",
        "# Section 1: Mean Squared Error (MSE)"
      ]
    },
    {
      "cell_type": "markdown",
      "metadata": {
        "id": "KorfEwEnh2yr"
      },
      "source": [
        "##  Video 1: Linear Regression & Mean Squared Error\n"
      ]
    },
    {
      "cell_type": "code",
      "execution_count": null,
      "metadata": {
        "cellView": "form",
        "execution": {},
        "tags": [
          "remove-input"
        ],
        "id": "RxZXmsEkh2yr"
      },
      "outputs": [],
      "source": [
        "# @title Video 1: Linear Regression & Mean Squared Error\n",
        "from ipywidgets import widgets\n",
        "\n",
        "out2 = widgets.Output()\n",
        "with out2:\n",
        "  from IPython.display import IFrame\n",
        "  class BiliVideo(IFrame):\n",
        "      def __init__(self, id, page=1, width=400, height=300, **kwargs):\n",
        "          self.id=id\n",
        "          src = 'https://player.bilibili.com/player.html?bvid={0}&page={1}'.format(id, page)\n",
        "          super(BiliVideo, self).__init__(src, width, height, **kwargs)\n",
        "\n",
        "  video = BiliVideo(id=\"BV1tA411e7NW\", width=730, height=410, fs=1)\n",
        "  print('Video available at https://www.bilibili.com/video/{0}'.format(video.id))\n",
        "  display(video)\n",
        "\n",
        "out1 = widgets.Output()\n",
        "with out1:\n",
        "  from IPython.display import YouTubeVideo\n",
        "  video = YouTubeVideo(id=\"HumajfjJ37E\", width=730, height=410, fs=1, rel=0)\n",
        "  print('Video available at https://youtube.com/watch?v=' + video.id)\n",
        "  display(video)\n",
        "\n",
        "out = widgets.Tab([out1, out2])\n",
        "out.set_title(0, 'Youtube')\n",
        "out.set_title(1, 'Bilibili')\n",
        "\n",
        "display(out)"
      ]
    },
    {
      "cell_type": "markdown",
      "metadata": {
        "execution": {},
        "id": "1tqlhRVMh2yr"
      },
      "source": [
        "This video covers a 1D linear regression and mean squared error.\n",
        "\n",
        "<details>\n",
        "<summary> <font color='blue'>Click here for text recap of video </font></summary>\n",
        "\n",
        "**Linear least squares regression** is an old but gold  optimization procedure that we are going to use for data fitting. Least squares (LS) optimization problems are those in which the objective function is a quadratic function of the\n",
        "parameter(s) being optimized.\n",
        "\n",
        "Suppose you have a set of measurements: for each data point or measurement, you have $y_{i}$ (the \"dependent\" variable) obtained for a different input value, $x_{i}$ (the \"independent\" or \"explanatory\" variable).  Suppose we believe the measurements are proportional to the input values, but are corrupted by some (random) measurement errors, $\\epsilon_{i}$, that is:\n",
        "\n",
        "\\begin{equation}\n",
        "y_{i}= \\theta x_{i}+\\epsilon_{i}\n",
        "\\end{equation}\n",
        "\n",
        "for some unknown slope parameter $\\theta.$ The least squares regression problem uses **mean squared error (MSE)** as its objective function, it aims to find the value of the parameter $\\theta$ by minimizing the average of squared errors:\n",
        "\n",
        "\\begin{equation}\n",
        "\\min _{\\theta} \\frac{1}{N}\\sum_{i=1}^{N}\\left(y_{i}-\\theta x_{i}\\right)^{2}\n",
        "\\end{equation}"
      ]
    },
    {
      "cell_type": "markdown",
      "metadata": {
        "execution": {},
        "id": "nKpTenvCh2ys"
      },
      "source": [
        "We will now explore how MSE is used in fitting a linear regression model to data. For illustrative purposes, we will create a simple synthetic dataset where we know the true underlying model. This will allow us to see how our estimation efforts compare in uncovering the real model (though in practice we rarely have this luxury).\n",
        "\n",
        "First we will generate some noisy samples $x$ from [0, 10) along the line $y = 1.2x$ as our dataset we wish to fit a model to."
      ]
    },
    {
      "cell_type": "markdown",
      "metadata": {
        "id": "QHdijd_Eh2ys"
      },
      "source": [
        "## \n"
      ]
    },
    {
      "cell_type": "markdown",
      "metadata": {
        "id": "xGks9JcLh2ys"
      },
      "source": [
        " Execute this cell to generate some simulated data\n"
      ]
    },
    {
      "cell_type": "code",
      "execution_count": 4,
      "metadata": {
        "cellView": "form",
        "execution": {},
        "tags": [
          "hide-input"
        ],
        "colab": {
          "base_uri": "https://localhost:8080/",
          "height": 430
        },
        "id": "9JUt896yh2ys",
        "outputId": "1d5b34fc-808f-43ec-9fc2-7ab2ff0b0bdb"
      },
      "outputs": [
        {
          "output_type": "display_data",
          "data": {
            "text/plain": [
              "<Figure size 576x432 with 1 Axes>"
            ],
            "image/png": "[encoded data removed]"
          },
          "metadata": {
            "image/png": {
              "width": 557,
              "height": 413
            },
            "needs_background": "light"
          }
        }
      ],
      "source": [
        "# @title\n",
        "\n",
        "# @markdown Execute this cell to generate some simulated data\n",
        "\n",
        "# setting a fixed seed to our random number generator ensures we will always\n",
        "# get the same psuedorandom number sequence\n",
        "np.random.seed(121)\n",
        "\n",
        "# Let's set some parameters\n",
        "theta = 1.2\n",
        "n_samples = 30\n",
        "\n",
        "# Draw x and then calculate y\n",
        "x = 10 * np.random.rand(n_samples)  # sample from a uniform distribution over [0,10)\n",
        "noise = np.random.randn(n_samples)  # sample from a standard normal distribution\n",
        "y = theta * x + noise\n",
        "\n",
        "# Plot the results\n",
        "fig, ax = plt.subplots()\n",
        "ax.scatter(x, y)  # produces a scatter plot\n",
        "ax.set(xlabel='x', ylabel='y');"
      ]
    },
    {
      "cell_type": "markdown",
      "metadata": {
        "execution": {},
        "id": "zTci0D3bh2yt"
      },
      "source": [
        "Now that we have our suitably noisy dataset, we can start trying to estimate the underlying model that produced it. We use MSE to evaluate how successful a particular slope estimate $\\hat{\\theta}$ is for explaining the data, with the closer to 0 the MSE is, the better our estimate fits the data."
      ]
    },
    {
      "cell_type": "markdown",
      "metadata": {
        "execution": {},
        "id": "BYZ_QXfCh2yt"
      },
      "source": [
        "## Coding Exercise 1: Compute MSE\n",
        "\n",
        "In this exercise you will implement a method to compute the mean squared error for a set of inputs $\\mathbf{x}$, measurements $\\mathbf{y}$, and slope estimate $\\hat{\\theta}$. Here, $\\mathbf{x}$ and $\\mathbf{y}$ are vectors of data points. We will then compute and print the mean squared error for 3 different choices of theta.\n",
        "\n",
        "As a reminder, the equation for computing the estimated y for a single data point is:\n",
        "\n",
        "\\begin{equation}\n",
        "\\hat{y}_{i}= \\theta x_{i}\n",
        "\\end{equation}\n",
        "\n",
        "and for mean squared error is:\n",
        "\n",
        "\\begin{equation}\n",
        "\\min _{\\theta} \\frac{1}{N}\\sum_{i=1}^{N}\\left(y_{i}-\\hat{y}_i\\right)^{2}\n",
        "\\end{equation}"
      ]
    },
    {
      "cell_type": "code",
      "execution_count": 5,
      "metadata": {
        "execution": {},
        "colab": {
          "base_uri": "https://localhost:8080/"
        },
        "id": "aJ7u7jDbh2yt",
        "outputId": "c7d9252c-1df3-4d6b-d37e-1a57ab41e1c4"
      },
      "outputs": [
        {
          "output_type": "stream",
          "name": "stdout",
          "text": [
            "theta_hat of 0.75 has an MSE of 9.08\n",
            "theta_hat of 1.0 has an MSE of 3.01\n",
            "theta_hat of 1.5 has an MSE of 4.52\n"
          ]
        }
      ],
      "source": [
        "def mse(x, y, theta_hat):\n",
        "  \"\"\"Compute the mean squared error\n",
        "\n",
        "  Args:\n",
        "    x (ndarray): An array of shape (samples,) that contains the input values.\n",
        "    y (ndarray): An array of shape (samples,) that contains the corresponding\n",
        "      measurement values to the inputs.\n",
        "    theta_hat (float): An estimate of the slope parameter\n",
        "\n",
        "  Returns:\n",
        "    float: The mean squared error of the data with the estimated parameter.\n",
        "  \"\"\"\n",
        "  ####################################################\n",
        "  ## TODO for students: compute the mean squared error\n",
        "  # # Fill out function and remove\n",
        "  # raise NotImplementedError(\"Student exercise: compute the mean squared error\")\n",
        "  # ####################################################\n",
        "\n",
        "  # Compute the estimated y\n",
        "  y_hat = theta_hat * x\n",
        "  N = y_hat.__len__()\n",
        "  # Compute mean squared error\n",
        "  mse = np.min((1/N) * np.sum(np.square(y - y_hat)))\n",
        "  #  mse = np.mean((y - y_hat)**2)\n",
        "\n",
        "  return mse\n",
        "\n",
        "\n",
        "theta_hats = [0.75, 1.0, 1.5]\n",
        "for theta_hat in theta_hats:\n",
        "  print(f\"theta_hat of {theta_hat} has an MSE of {mse(x, y, theta_hat):.2f}\")"
      ]
    },
    {
      "cell_type": "markdown",
      "metadata": {
        "cellView": "both",
        "execution": {},
        "id": "cZJ53L5uh2yt"
      },
      "source": [
        "[*Click for solution*](https://github.com/NeuromatchAcademy/course-content/tree/main//tutorials/W1D2_ModelFitting/solutions/W1D2_Tutorial1_Solution_12a57de0.py)\n",
        "\n"
      ]
    },
    {
      "cell_type": "markdown",
      "metadata": {
        "execution": {},
        "id": "kLS9DtNCh2yu"
      },
      "source": [
        "The result should be:\n",
        "\n",
        "theta_hat of 0.75 has an MSE of 9.08\\\n",
        "theta_hat of 1.0 has an MSE of 3.0\\\n",
        "theta_hat of 1.5 has an MSE of 4.52\n",
        "\n",
        "\n",
        "\n"
      ]
    },
    {
      "cell_type": "markdown",
      "metadata": {
        "execution": {},
        "id": "uyRr07orh2yu"
      },
      "source": [
        "We see that $\\hat{\\theta} = 1.0$ is our best estimate from the three we tried. Looking just at the raw numbers, however, isn't always satisfying, so let's visualize what our estimated model looks like over the data. \n",
        "\n"
      ]
    },
    {
      "cell_type": "markdown",
      "metadata": {
        "id": "fdrDeU4hh2yu"
      },
      "source": [
        "### \n"
      ]
    },
    {
      "cell_type": "markdown",
      "metadata": {
        "id": "sSEKSenOh2yu"
      },
      "source": [
        " Execute this cell to visualize estimated models\n"
      ]
    },
    {
      "cell_type": "code",
      "execution_count": null,
      "metadata": {
        "cellView": "form",
        "execution": {},
        "tags": [
          "hide-input"
        ],
        "id": "w3C3Kgxkh2yu"
      },
      "outputs": [],
      "source": [
        "#@title\n",
        "\n",
        "#@markdown Execute this cell to visualize estimated models\n",
        "\n",
        "fig, axes = plt.subplots(ncols=3, figsize=(18, 4))\n",
        "for theta_hat, ax in zip(theta_hats, axes):\n",
        "\n",
        "  # True data\n",
        "  ax.scatter(x, y, label='Observed')  # our data scatter plot\n",
        "\n",
        "  # Compute and plot predictions\n",
        "  y_hat = theta_hat * x\n",
        "  ax.plot(x, y_hat, color='r', label='Fit')  # our estimated model\n",
        "\n",
        "  ax.set(\n",
        "      title= fr'$\\hat{{\\theta}}$= {theta_hat}, MSE = {np.mean((y - y_hat)**2):.2f}',\n",
        "      xlabel='x',\n",
        "      ylabel='y'\n",
        "  );\n",
        "\n",
        "axes[0].legend()"
      ]
    },
    {
      "cell_type": "markdown",
      "metadata": {
        "execution": {},
        "id": "08rtgw-Wh2yu"
      },
      "source": [
        "## Interactive Demo 1: MSE Explorer\n",
        "\n",
        "Using an interactive widget, we can easily see how changing our slope estimate changes our model fit. We display the **residuals**, the differences between observed and predicted data, as line segments between the data point (observed response) and the corresponding predicted response on the model fit line.\n",
        "\n",
        "- What value of $\\hat{\\theta}$ results in the lowest MSE?\n",
        "- Is this a good way of estimating $\\theta$?\n"
      ]
    },
    {
      "cell_type": "markdown",
      "metadata": {
        "id": "7seWrPEmh2yu"
      },
      "source": [
        "### \n"
      ]
    },
    {
      "cell_type": "markdown",
      "metadata": {
        "id": "YFAVprkTh2yu"
      },
      "source": [
        " Make sure you execute this cell to enable the widget!\n"
      ]
    },
    {
      "cell_type": "code",
      "execution_count": null,
      "metadata": {
        "cellView": "form",
        "execution": {},
        "tags": [
          "hide-input"
        ],
        "id": "nbsST8Xlh2yv"
      },
      "outputs": [],
      "source": [
        "#@title\n",
        "\n",
        "#@markdown Make sure you execute this cell to enable the widget!\n",
        "\n",
        "@widgets.interact(theta_hat=widgets.FloatSlider(1.0, min=0.0, max=2.0))\n",
        "def plot_data_estimate(theta_hat):\n",
        "  y_hat = theta_hat * x\n",
        "  plot_observed_vs_predicted(x, y, y_hat, theta_hat)"
      ]
    },
    {
      "cell_type": "markdown",
      "metadata": {
        "execution": {},
        "id": "30HnpEhxh2yv"
      },
      "source": [
        "[*Click for solution*](https://github.com/NeuromatchAcademy/course-content/tree/main//tutorials/W1D2_ModelFitting/solutions/W1D2_Tutorial1_Solution_b528a7bb.py)\n",
        "\n"
      ]
    },
    {
      "cell_type": "markdown",
      "metadata": {
        "execution": {},
        "id": "tLBbZZJyh2yv"
      },
      "source": [
        "While visually exploring several estimates can be instructive, it's not the most efficient for finding the best estimate to fit our data. Another technique we can use is to choose a reasonable range of parameter values and compute the MSE at several values in that interval. This allows us to plot the error against the parameter value (this is also called an **error landscape**, especially when we deal with more than one parameter). We can select the final $\\hat{\\theta}$  ($\\hat{\\theta}_\\textrm{MSE}$) as the one which results in the lowest error."
      ]
    },
    {
      "cell_type": "markdown",
      "metadata": {
        "id": "dYrzU_R7h2yv"
      },
      "source": [
        "### \n"
      ]
    },
    {
      "cell_type": "markdown",
      "metadata": {
        "id": "fZr0-3tHh2yv"
      },
      "source": [
        " Execute this cell to loop over theta_hats, compute MSE, and plot results\n"
      ]
    },
    {
      "cell_type": "code",
      "execution_count": null,
      "metadata": {
        "cellView": "form",
        "execution": {},
        "tags": [
          "hide-input"
        ],
        "id": "nhcm_DWyh2yv"
      },
      "outputs": [],
      "source": [
        "# @title\n",
        "\n",
        "# @markdown Execute this cell to loop over theta_hats, compute MSE, and plot results\n",
        "\n",
        "# Loop over different thetas, compute MSE for each\n",
        "theta_hat_grid = np.linspace(-2.0, 4.0)\n",
        "errors = np.zeros(len(theta_hat_grid))\n",
        "for i, theta_hat in enumerate(theta_hat_grid):\n",
        "  errors[i] = mse(x, y, theta_hat)\n",
        "\n",
        "# Find theta that results in lowest error\n",
        "best_error = np.min(errors)\n",
        "theta_hat = theta_hat_grid[np.argmin(errors)]\n",
        "\n",
        "\n",
        "# Plot results\n",
        "fig, ax = plt.subplots()\n",
        "ax.plot(theta_hat_grid, errors, '-o', label='MSE', c='C1')\n",
        "ax.axvline(theta, color='g', ls='--', label=r\"$\\theta_{True}$\")\n",
        "ax.axvline(theta_hat, color='r', ls='-', label=r\"$\\hat{{\\theta}}_{MSE}$\")\n",
        "ax.set(\n",
        "  title=fr\"Best fit: $\\hat{{\\theta}}$ = {theta_hat:.2f}, MSE = {best_error:.2f}\",\n",
        "  xlabel=r\"$\\hat{{\\theta}}$\",\n",
        "  ylabel='MSE')\n",
        "ax.legend();"
      ]
    },
    {
      "cell_type": "markdown",
      "metadata": {
        "execution": {},
        "id": "4L9tukzQh2yw"
      },
      "source": [
        "We can see that our best fit is $\\hat{\\theta}=1.18$ with an MSE of 1.45. This is quite close to the original true value $\\theta=1.2$!\n"
      ]
    },
    {
      "cell_type": "markdown",
      "metadata": {
        "execution": {},
        "id": "18edYGn-h2yw"
      },
      "source": [
        "---\n",
        "# Section 2: Least-squares optimization\n",
        "\n",
        "*Estimated timing to here from start of tutorial: 20 min*\n",
        "\n",
        "While the approach detailed above (computing MSE at various values of $\\hat\\theta$) quickly got us to a good estimate, it still relied on evaluating the MSE value across a grid of hand-specified values. If we didn't pick a good range to begin with, or with enough granularity, we might miss the best possible estimator. Let's go one step further, and instead of finding the minimum MSE from a set of candidate estimates, let's solve for it analytically.\n",
        "\n",
        "We can do this by minimizing the cost function. Mean squared error is a convex objective function, therefore we can compute its minimum using calculus. Please see video or Bonus Section 1 for this derivation! After computing the minimum, we find that:\n",
        "\n",
        "\\begin{equation}\n",
        "\\hat\\theta = \\frac{\\mathbf{x}^\\top \\mathbf{y}}{\\mathbf{x}^\\top \\mathbf{x}}\n",
        "\\end{equation}\n",
        "\n",
        "where $\\mathbf{x}$ and $\\mathbf{y}$ are vectors of data points.\n",
        "\n",
        "This is known as solving the normal equations. For different ways of obtaining the solution, see the notes on [Least Squares Optimization](https://www.cns.nyu.edu/~eero/NOTES/leastSquares.pdf) by Eero Simoncelli."
      ]
    },
    {
      "cell_type": "markdown",
      "metadata": {
        "execution": {},
        "id": "mZDD2_sWh2yw"
      },
      "source": [
        "## Coding Exercise 2: Solve for the Optimal Estimator\n",
        "\n",
        "In this exercise, you will write a function that finds the optimal $\\hat{\\theta}$ value using the least squares optimization approach (the equation above) to solve MSE minimization. It should take arguments $x$ and $y$ and return the solution $\\hat{\\theta}$.\n",
        "\n",
        "We will then use your function to compute $\\hat{\\theta}$ and plot the resulting prediction on top of the data. "
      ]
    },
    {
      "cell_type": "code",
      "execution_count": null,
      "metadata": {
        "execution": {},
        "id": "Sw24ZaJbh2yw"
      },
      "outputs": [],
      "source": [
        "def solve_normal_eqn(x, y):\n",
        "  \"\"\"Solve the normal equations to produce the value of theta_hat that minimizes\n",
        "    MSE.\n",
        "\n",
        "    Args:\n",
        "    x (ndarray): An array of shape (samples,) that contains the input values.\n",
        "    y (ndarray): An array of shape (samples,) that contains the corresponding\n",
        "      measurement values to the inputs.\n",
        "\n",
        "  Returns:\n",
        "    float: the value for theta_hat arrived from minimizing MSE\n",
        "  \"\"\"\n",
        "\n",
        "  ################################################################################\n",
        "  ## TODO for students: solve for the best parameter using least squares\n",
        "  # Fill out function and remove\n",
        "  raise NotImplementedError(\"Student exercise: solve for theta_hat using least squares\")\n",
        "  ################################################################################\n",
        "\n",
        "  # Compute theta_hat analytically\n",
        "  theta_hat = ...\n",
        "\n",
        "  return theta_hat\n",
        "\n",
        "\n",
        "theta_hat = solve_normal_eqn(x, y)\n",
        "y_hat = theta_hat * x\n",
        "plot_observed_vs_predicted(x, y, y_hat, theta_hat)"
      ]
    },
    {
      "cell_type": "markdown",
      "metadata": {
        "cellView": "both",
        "execution": {},
        "id": "VG-rt6k_h2yw"
      },
      "source": [
        "[*Click for solution*](https://github.com/NeuromatchAcademy/course-content/tree/main//tutorials/W1D2_ModelFitting/solutions/W1D2_Tutorial1_Solution_7a89ba24.py)\n",
        "\n",
        "*Example output:*\n",
        "\n",
        "<img alt='Solution hint' align='left' width=848.0 height=561.0 src=https://raw.githubusercontent.com/NeuromatchAcademy/course-content/main/tutorials/W1D2_ModelFitting/static/W1D2_Tutorial1_Solution_7a89ba24_0.png>\n",
        "\n"
      ]
    },
    {
      "cell_type": "markdown",
      "metadata": {
        "execution": {},
        "id": "aY4YX1VZh2yw"
      },
      "source": [
        "We see that the analytic solution produces an even better result than our grid search from before, producing $\\hat{\\theta} = 1.21$ with $\\text{MSE} = 1.43$!"
      ]
    },
    {
      "cell_type": "markdown",
      "metadata": {
        "execution": {},
        "id": "0W9B7bWlh2yx"
      },
      "source": [
        "---\n",
        "# Summary\n",
        "\n",
        "*Estimated timing of tutorial: 30 minutes*\n",
        "\n",
        "Linear least squares regression is an optimization procedure that can be used for data fitting:\n",
        "\n",
        "  - Task: predict a value for $y_i$ given $x_i$\n",
        "  - Performance measure: $\\textrm{MSE}$\n",
        "  - Procedure: minimize $\\textrm{MSE}$ by solving the normal equations\n",
        "\n",
        "**Key point**: We fit the model by defining an *objective function* and minimizing it. \n",
        "\n",
        "**Note**: In this case, there is an *analytical* solution to the minimization problem and in practice, this solution can be computed using *linear algebra*. This is *extremely* powerful and forms the basis for much of numerical computation throughout the sciences."
      ]
    },
    {
      "cell_type": "markdown",
      "metadata": {
        "execution": {},
        "id": "nLIPpy7wh2yx"
      },
      "source": [
        "# Notation\n",
        "\\begin{align}\n",
        "x_{i} &\\quad \\text{input, independent variable}\\\\\n",
        "y_{i} &\\quad \\text{measurement, dependent variable}\\\\\n",
        "\\mathbf{x} &\\quad \\text{vector of input values}\\\\\n",
        "\\mathbf{y} &\\quad \\text{vector of measurements}\\\\\n",
        "\\hat{y}_{i} &\\quad \\text{estimate of dependent variable}\\\\\n",
        "\\epsilon_{i} &\\quad \\text{measurement error}\\\\\n",
        "\\theta &\\quad \\text{slope parameter}\\\\\n",
        "\\hat{\\theta} &\\quad \\text{estimated slope parameter}\\\\\n",
        "\\hat{\\theta}_\\text{MSE} &\\quad \\text{slope parameter estimated via the mean squared error}\\\\\n",
        "\\textrm{MSE} &\\quad \\text{mean squared error}\\\\\n",
        "\\end{align}"
      ]
    },
    {
      "cell_type": "markdown",
      "metadata": {
        "execution": {},
        "id": "fvxmoVNrh2yx"
      },
      "source": [
        "---\n",
        "# Bonus"
      ]
    },
    {
      "cell_type": "markdown",
      "metadata": {
        "execution": {},
        "id": "Vy_5HBQjh2yx"
      },
      "source": [
        "---\n",
        "## Bonus Section 1: Least Squares Optimization Derivation\n",
        "\n",
        "We will outline here the derivation of the least squares solution.\n",
        "\n",
        "We first set the derivative of the error expression with respect to $\\theta$ equal to zero, \n",
        "\n",
        "\\begin{align}\n",
        "\\frac{d}{d\\theta}\\frac{1}{N}\\sum_{i=1}^N(y_i - \\theta x_i)^2 &= 0 \\\\\n",
        "\\frac{1}{N}\\sum_{i=1}^N-2x_i(y_i - \\theta x_i) &= 0\n",
        "\\end{align}\n",
        "\n",
        "where we used the chain rule. Now solving for $\\theta$, we obtain an optimal value of:\n",
        "\n",
        "\\begin{equation}\n",
        "\\hat\\theta = \\frac{\\sum_{i=1}^N x_i y_i}{\\sum_{i=1}^N x_i^2}\n",
        "\\end{equation}\n",
        "\n",
        "Which we can write in vector notation as:\n",
        "\n",
        "\\begin{equation}\n",
        "\\hat\\theta = \\frac{\\mathbf{x}^\\top \\mathbf{y}}{\\mathbf{x}^\\top \\mathbf{x}}\n",
        "\\end{equation}\n",
        "\n",
        "<br>\n",
        "\n",
        "This is known as solving the *normal equations*. For different ways of obtaining the solution, see the notes on [Least Squares Optimization](https://www.cns.nyu.edu/~eero/NOTES/leastSquares.pdf) by Eero Simoncelli."
      ]
    }
  ],
  "metadata": {
    "celltoolbar": "Slideshow",
    "colab": {
      "collapsed_sections": [],
      "name": "W1D2_Tutorial1",
      "provenance": [],
      "toc_visible": true
    },
    "kernel": {
      "display_name": "Python 3",
      "language": "python",
      "name": "python3"
    },
    "kernelspec": {
      "display_name": "Python 3",
      "language": "python",
      "name": "python3"
    },
    "language_info": {
      "codemirror_mode": {
        "name": "ipython",
        "version": 3
      },
      "file_extension": ".py",
      "mimetype": "text/x-python",
      "name": "python",
      "nbconvert_exporter": "python",
      "pygments_lexer": "ipython3",
      "version": "3.7.13"
    }
  },
  "nbformat": 4,
  "nbformat_minor": 0
}