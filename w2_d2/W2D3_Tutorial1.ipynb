{
  "cells": [
    {
      "cell_type": "markdown",
      "metadata": {
        "execution": {},
        "id": "vGsHNBdxT7zI"
      },
      "source": [
        "# Tutorial 1: The Leaky Integrate-and-Fire (LIF) Neuron Model\n",
        "**Week 2, Day 3: Biological Neuron Models**\n",
        "\n",
        "**By Neuromatch Academy**\n",
        "\n",
        "__Content creators:__ Qinglong Gu, Songtin Li, John Murray, Richard Naud, Arvind Kumar\n",
        "\n",
        "__Content reviewers:__  Maryam Vaziri-Pashkam, Ella Batty, Lorenzo Fontolan, Richard Gao, Matthew Krause, Spiros Chavlis, Michael Waskom, Ethan Cheng\n",
        "\n",
        "**Post-Production Team:** Gagana B, Spiros Chavlis"
      ]
    },
    {
      "cell_type": "markdown",
      "metadata": {
        "execution": {},
        "id": "t-w2m3vtT7zO"
      },
      "source": [
        "<p align='center'><img src='https://github.com/NeuromatchAcademy/widgets/blob/master/sponsors.png?raw=True'/></p>"
      ]
    },
    {
      "cell_type": "markdown",
      "metadata": {
        "execution": {},
        "id": "fqJ6j2DbT7zP"
      },
      "source": [
        "---\n",
        "# Tutorial Objectives\n",
        "\n",
        "*Estimated timing of tutorial: 1 hour, 10 min*\n",
        "\n",
        "This is Tutorial 1 of a series on implementing realistic neuron models. In this tutorial, we will build up a leaky integrate-and-fire (LIF) neuron model and study its dynamics in response to various types of inputs. In particular, we are going to write a few lines of code to:\n",
        "\n",
        "- simulate the LIF neuron model\n",
        "\n",
        "- drive the LIF neuron with external inputs, such as direct currents, Gaussian white noise, and Poisson spike trains, etc.\n",
        "\n",
        "- study how different inputs affect the  LIF neuron's output (firing rate and spike time irregularity)\n",
        "\n",
        "Here, we will especially emphasize identifying conditions (input statistics) under which a neuron can spike at low firing rates and in an irregular manner. The reason for focusing on this is that in most cases, neocortical neurons spike in an irregular manner."
      ]
    },
    {
      "cell_type": "markdown",
      "metadata": {
        "id": "dDRObb3GT7zP"
      },
      "source": [
        "##  Tutorial slides\n"
      ]
    },
    {
      "cell_type": "markdown",
      "metadata": {
        "id": "enyZAm7mT7zQ"
      },
      "source": [
        " These are the slides for the videos in all tutorials today\n"
      ]
    },
    {
      "cell_type": "code",
      "execution_count": null,
      "metadata": {
        "cellView": "form",
        "execution": {},
        "tags": [
          "remove-input"
        ],
        "id": "qOX5mp0oT7zR"
      },
      "outputs": [],
      "source": [
        "# @title Tutorial slides\n",
        "\n",
        "# @markdown These are the slides for the videos in all tutorials today\n",
        "from IPython.display import IFrame\n",
        "IFrame(src=f\"https://mfr.ca-1.osf.io/render?url=https://osf.io/8djsm/?direct%26mode=render%26action=download%26mode=render\", width=854, height=480)"
      ]
    },
    {
      "cell_type": "markdown",
      "metadata": {
        "execution": {},
        "id": "5vzX4u4_T7zS"
      },
      "source": [
        "---\n",
        "# Setup"
      ]
    },
    {
      "cell_type": "code",
      "execution_count": 1,
      "metadata": {
        "cellView": "both",
        "execution": {},
        "id": "rQlsBtN2T7zT"
      },
      "outputs": [],
      "source": [
        "# Imports\n",
        "import numpy as np\n",
        "import matplotlib.pyplot as plt"
      ]
    },
    {
      "cell_type": "markdown",
      "metadata": {
        "id": "P0Q2li0aT7zT"
      },
      "source": [
        "##  Figure Settings\n"
      ]
    },
    {
      "cell_type": "code",
      "execution_count": 2,
      "metadata": {
        "cellView": "form",
        "execution": {},
        "tags": [
          "hide-input"
        ],
        "id": "yoPrzmQuT7zU"
      },
      "outputs": [],
      "source": [
        "# @title Figure Settings\n",
        "import ipywidgets as widgets  # interactive display\n",
        "%config InlineBackend.figure_format = 'retina'\n",
        "# use NMA plot style\n",
        "plt.style.use(\"https://raw.githubusercontent.com/NeuromatchAcademy/course-content/main/nma.mplstyle\")\n",
        "my_layout = widgets.Layout()"
      ]
    },
    {
      "cell_type": "markdown",
      "metadata": {
        "id": "HzvGQe9wT7zV"
      },
      "source": [
        "##  Plotting Functions\n"
      ]
    },
    {
      "cell_type": "code",
      "execution_count": 3,
      "metadata": {
        "cellView": "form",
        "execution": {},
        "tags": [
          "hide-input"
        ],
        "id": "sL0u07yRT7zV"
      },
      "outputs": [],
      "source": [
        "# @title Plotting Functions\n",
        "\n",
        "def plot_volt_trace(pars, v, sp):\n",
        "  \"\"\"\n",
        "  Plot trajetory of membrane potential for a single neuron\n",
        "\n",
        "  Expects:\n",
        "  pars   : parameter dictionary\n",
        "  v      : volt trajetory\n",
        "  sp     : spike train\n",
        "\n",
        "  Returns:\n",
        "  figure of the membrane potential trajetory for a single neuron\n",
        "  \"\"\"\n",
        "\n",
        "  V_th = pars['V_th']\n",
        "  dt, range_t = pars['dt'], pars['range_t']\n",
        "  if sp.size:\n",
        "    sp_num = (sp / dt).astype(int) - 1\n",
        "    v[sp_num] += 20  # draw nicer spikes\n",
        "\n",
        "  plt.plot(pars['range_t'], v, 'b')\n",
        "  plt.axhline(V_th, 0, 1, color='k', ls='--')\n",
        "  plt.xlabel('Time (ms)')\n",
        "  plt.ylabel('V (mV)')\n",
        "  plt.legend(['Membrane\\npotential', r'Threshold V$_{\\mathrm{th}}$'],\n",
        "             loc=[1.05, 0.75])\n",
        "  plt.ylim([-80, -40])\n",
        "\n",
        "\n",
        "def plot_GWN(pars, I_GWN):\n",
        "  \"\"\"\n",
        "  Args:\n",
        "    pars  : parameter dictionary\n",
        "    I_GWN : Gaussian white noise input\n",
        "\n",
        "  Returns:\n",
        "    figure of the gaussian white noise input\n",
        "  \"\"\"\n",
        "\n",
        "  plt.figure(figsize=(12, 4))\n",
        "  plt.subplot(121)\n",
        "  plt.plot(pars['range_t'][::3], I_GWN[::3], 'b')\n",
        "  plt.xlabel('Time (ms)')\n",
        "  plt.ylabel(r'$I_{GWN}$ (pA)')\n",
        "  plt.subplot(122)\n",
        "  plot_volt_trace(pars, v, sp)\n",
        "  plt.tight_layout()\n",
        "\n",
        "\n",
        "def my_hists(isi1, isi2, cv1, cv2, sigma1, sigma2):\n",
        "  \"\"\"\n",
        "  Args:\n",
        "    isi1 : vector with inter-spike intervals\n",
        "    isi2 : vector with inter-spike intervals\n",
        "    cv1  : coefficient of variation for isi1\n",
        "    cv2  : coefficient of variation for isi2\n",
        "\n",
        "  Returns:\n",
        "    figure with two histograms, isi1, isi2\n",
        "\n",
        "  \"\"\"\n",
        "  plt.figure(figsize=(11, 4))\n",
        "  my_bins = np.linspace(10, 30, 20)\n",
        "  plt.subplot(121)\n",
        "  plt.hist(isi1, bins=my_bins, color='b', alpha=0.5)\n",
        "  plt.xlabel('ISI (ms)')\n",
        "  plt.ylabel('count')\n",
        "  plt.title(r'$\\sigma_{GWN}=$%.1f, CV$_{\\mathrm{isi}}$=%.3f' % (sigma1, cv1))\n",
        "\n",
        "  plt.subplot(122)\n",
        "  plt.hist(isi2, bins=my_bins, color='b', alpha=0.5)\n",
        "  plt.xlabel('ISI (ms)')\n",
        "  plt.ylabel('count')\n",
        "  plt.title(r'$\\sigma_{GWN}=$%.1f, CV$_{\\mathrm{isi}}$=%.3f' % (sigma2, cv2))\n",
        "  plt.tight_layout()\n",
        "  plt.show()"
      ]
    },
    {
      "cell_type": "markdown",
      "metadata": {
        "execution": {},
        "id": "4RekE-ZlT7zW"
      },
      "source": [
        "---\n",
        "# Section 1: The Leaky Integrate-and-Fire (LIF) model"
      ]
    },
    {
      "cell_type": "markdown",
      "metadata": {
        "id": "pnQOmNsrT7zW"
      },
      "source": [
        "##  Video 1: Reduced Neuron Models\n"
      ]
    },
    {
      "cell_type": "code",
      "execution_count": null,
      "metadata": {
        "cellView": "form",
        "execution": {},
        "tags": [
          "remove-input"
        ],
        "id": "k7cMcNRyT7zX"
      },
      "outputs": [],
      "source": [
        "# @title Video 1: Reduced Neuron Models\n",
        "from ipywidgets import widgets\n",
        "\n",
        "out2 = widgets.Output()\n",
        "with out2:\n",
        "  from IPython.display import IFrame\n",
        "  class BiliVideo(IFrame):\n",
        "      def __init__(self, id, page=1, width=400, height=300, **kwargs):\n",
        "          self.id=id\n",
        "          src = 'https://player.bilibili.com/player.html?bvid={0}&page={1}'.format(id, page)\n",
        "          super(BiliVideo, self).__init__(src, width, height, **kwargs)\n",
        "\n",
        "  video = BiliVideo(id=\"av456396195\", width=730, height=410, fs=1)\n",
        "  print('Video available at https://www.bilibili.com/video/{0}'.format(video.id))\n",
        "  display(video)\n",
        "\n",
        "out1 = widgets.Output()\n",
        "with out1:\n",
        "  from IPython.display import YouTubeVideo\n",
        "  video = YouTubeVideo(id=\"rSExvwCVRYg\", width=730, height=410, fs=1, rel=0)\n",
        "  print('Video available at https://youtube.com/watch?v=' + video.id)\n",
        "  display(video)\n",
        "\n",
        "out = widgets.Tab([out1, out2])\n",
        "out.set_title(0, 'Youtube')\n",
        "out.set_title(1, 'Bilibili')\n",
        "\n",
        "display(out)"
      ]
    },
    {
      "cell_type": "markdown",
      "metadata": {
        "execution": {},
        "id": "1Glz_03OT7zX"
      },
      "source": [
        "This video introduces the reduction of a biological neuron to a simple leaky-integrate-fire (LIF) neuron model.\n",
        "\n",
        "<details>\n",
        "<summary> <font color='blue'>Click here for text recap of video </font></summary>\n",
        "\n",
        "Now, it's your turn to implement one of the simplest mathematical model of a neuron: the leaky integrate-and-fire (LIF) model. The basic idea of LIF neuron was proposed in 1907 by Louis Édouard Lapicque, long before we understood the electrophysiology of a neuron (see a translation of [Lapicque's paper](https://pubmed.ncbi.nlm.nih.gov/17968583/) ). More details of the model can be found in the book [**Theoretical neuroscience**](http://www.gatsby.ucl.ac.uk/~dayan/book/) by Peter Dayan and Laurence F. Abbott.\n",
        "\n",
        "The subthreshold membrane potential dynamics of a LIF neuron is described by\n",
        "\n",
        "\\begin{eqnarray}\n",
        "C_m\\frac{dV}{dt} = -g_L(V-E_L) + I,\\quad (1)\n",
        "\\end{eqnarray}\n",
        "\n",
        "where $C_m$ is the membrane capacitance, $V$ is the membrane potential, $g_L$ is the leak conductance ($g_L = 1/R$, the inverse of the leak resistance $R$ mentioned in previous tutorials), $E_L$ is the resting potential, and $I$ is the external input current. \n",
        "\n",
        "Dividing both sides of the above equation by $g_L$ gives\n",
        "\n",
        "\\begin{align}\n",
        "\\tau_m\\frac{dV}{dt} = -(V-E_L) + \\frac{I}{g_L}\\,,\\quad (2)\n",
        "\\end{align}\n",
        "\n",
        "where the $\\tau_m$ is membrane time constant and is defined as $\\tau_m=C_m/g_L$. \n",
        "\n",
        "Note that dividing capacitance by conductance gives units of time! \n",
        "\n",
        "Below, we will use Eqn.(2) to simulate LIF neuron dynamics. \n",
        "\n",
        "If $I$ is sufficiently strong such that $V$ reaches a certain threshold value $V_{\\rm th}$, $V$ is reset to a reset potential $V_{\\rm reset}< V_{\\rm th}$, and voltage is clamped to $V_{\\rm reset}$ for $\\tau_{\\rm ref}$ ms, mimicking the refractoriness of the neuron during an action potential:\n",
        "\n",
        "\\begin{eqnarray}\n",
        "\\mathrm{if}\\quad V(t_{\\text{sp}})\\geq V_{\\rm th}&:& V(t)=V_{\\rm reset} \\text{  for } t\\in(t_{\\text{sp}}, t_{\\text{sp}} + \\tau_{\\text{ref}}]\n",
        "\\end{eqnarray}\n",
        "where $t_{\\rm sp}$ is the spike time when $V(t)$ just exceeded $V_{\\rm th}$.\n",
        "\n",
        "(**Note:** in the lecture slides, $\\theta$ corresponds to the threshold voltage $V_{th}$, and $\\Delta$ corresponds to the refractory time $\\tau_{\\rm ref}$.)\n",
        "\n",
        "</details>\n",
        "\n",
        "Note that you have seen the LIF model before if you looked at the pre-reqs Python or Calculus days!\n",
        "\n",
        "The LIF model captures the facts that a neuron:\n",
        "- performs spatial and temporal integration of synaptic inputs\n",
        "- generates a spike when the voltage reaches a certain threshold\n",
        "- goes refractory during the action potential\n",
        "- has a leaky membrane\n",
        "\n",
        "The LIF model assumes that the spatial and temporal integration of inputs is linear. Also, membrane potential dynamics close to the spike threshold are much slower in LIF neurons than in real neurons."
      ]
    },
    {
      "cell_type": "markdown",
      "metadata": {
        "execution": {},
        "id": "GPMgUN9mT7zY"
      },
      "source": [
        "## Coding Exercise 1: Python code to simulate the LIF neuron\n",
        "\n",
        "We now write Python code to calculate our equation for the LIF neuron and simulate the LIF neuron dynamics. We will use the Euler method, which you saw in the linear systems case yesterday  to numerically integrate this equation:\n",
        "\n",
        "\\begin{equation}\n",
        "\\tau_m\\frac{dV}{dt} = -(V-E_L) + \\frac{I}{g_L}\\,\n",
        "\\end{equation}\n",
        "\n",
        "where $V$ is the membrane potential, $g_L$ is the leak conductance, $E_L$ is the resting potential, $I$ is the external input current, and $\\tau_m$ is membrane time constant.\n",
        "\n",
        "The cell below initializes a dictionary that stores parameters of the LIF neuron model and the simulation scheme. You can use `pars=default_pars(T=simulation_time, dt=time_step)` to get the parameters. Note that, `simulation_time` and `time_step` have the unit `ms`. In addition, you can add the value to a new parameter by `pars['New_param'] = value`."
      ]
    },
    {
      "cell_type": "markdown",
      "metadata": {
        "id": "_0OZQ0RfT7zY"
      },
      "source": [
        " Execute this code to initialize the default parameters\n"
      ]
    },
    {
      "cell_type": "code",
      "execution_count": 4,
      "metadata": {
        "execution": {},
        "tags": [
          "hide-input"
        ],
        "id": "8-8igkcBT7zY",
        "outputId": "8e4468b9-f526-4ace-c7b5-e7750bb3048a",
        "colab": {
          "base_uri": "https://localhost:8080/"
        }
      },
      "outputs": [
        {
          "output_type": "stream",
          "name": "stdout",
          "text": [
            "{'V_th': -55.0, 'V_reset': -75.0, 'tau_m': 10.0, 'g_L': 10.0, 'V_init': -75.0, 'E_L': -75.0, 'tref': 2.0, 'T': 400.0, 'dt': 0.1, 'range_t': array([0.000e+00, 1.000e-01, 2.000e-01, ..., 3.997e+02, 3.998e+02,\n",
            "       3.999e+02])}\n"
          ]
        }
      ],
      "source": [
        "# @markdown Execute this code to initialize the default parameters\n",
        "\n",
        "\n",
        "def default_pars(**kwargs):\n",
        "  pars = {}\n",
        "\n",
        "  # typical neuron parameters#\n",
        "  pars['V_th'] = -55.     # spike threshold [mV]\n",
        "  pars['V_reset'] = -75.  # reset potential [mV]\n",
        "  pars['tau_m'] = 10.     # membrane time constant [ms]\n",
        "  pars['g_L'] = 10.       # leak conductance [nS]\n",
        "  pars['V_init'] = -75.   # initial potential [mV]\n",
        "  pars['E_L'] = -75.      # leak reversal potential [mV]\n",
        "  pars['tref'] = 2.       # refractory time (ms)\n",
        "\n",
        "  # simulation parameters #\n",
        "  pars['T'] = 400.  # Total duration of simulation [ms]\n",
        "  pars['dt'] = .1   # Simulation time step [ms]\n",
        "\n",
        "  # external parameters if any #\n",
        "  for k in kwargs:\n",
        "    pars[k] = kwargs[k]\n",
        "\n",
        "  pars['range_t'] = np.arange(0, pars['T'], pars['dt'])  # Vector of discretized time points [ms]\n",
        "\n",
        "  return pars\n",
        "\n",
        "\n",
        "pars = default_pars()\n",
        "print(pars)"
      ]
    },
    {
      "cell_type": "markdown",
      "metadata": {
        "execution": {},
        "id": "ewHu8GgsT7zZ"
      },
      "source": [
        "Complete the function below to simulate the LIF neuron when receiving external current inputs. You can use `v, sp = run_LIF(pars, Iinj)` to get the membrane potential (`v`) and spike train (`sp`) given the dictionary `pars` and input current `Iinj`. "
      ]
    },
    {
      "cell_type": "code",
      "execution_count": 7,
      "metadata": {
        "cellView": "both",
        "execution": {},
        "id": "qgiGd1VaT7zZ",
        "outputId": "7b50c093-8cf0-4fa9-8be9-567aea9c91ea",
        "colab": {
          "base_uri": "https://localhost:8080/",
          "height": 431
        }
      },
      "outputs": [
        {
          "output_type": "display_data",
          "data": {
            "text/plain": [
              "<Figure size 576x432 with 1 Axes>"
            ],
            "image/png": "[encoded data removed]"
          },
          "metadata": {
            "image/png": {
              "width": 558,
              "height": 414
            },
            "needs_background": "light"
          }
        }
      ],
      "source": [
        "def run_LIF(pars, Iinj, stop=False):\n",
        "  \"\"\"\n",
        "  Simulate the LIF dynamics with external input current\n",
        "\n",
        "  Args:\n",
        "    pars       : parameter dictionary\n",
        "    Iinj       : input current [pA]. The injected current here can be a value\n",
        "                 or an array\n",
        "    stop       : boolean. If True, use a current pulse\n",
        "\n",
        "  Returns:\n",
        "    rec_v      : membrane potential\n",
        "    rec_sp     : spike times\n",
        "  \"\"\"\n",
        "\n",
        "  # Set parameters\n",
        "  V_th, V_reset = pars['V_th'], pars['V_reset']\n",
        "  tau_m, g_L = pars['tau_m'], pars['g_L']\n",
        "  V_init, E_L = pars['V_init'], pars['E_L']\n",
        "  dt, range_t = pars['dt'], pars['range_t']\n",
        "  Lt = range_t.size\n",
        "  tref = pars['tref']\n",
        "\n",
        "  # Initialize voltage\n",
        "  v = np.zeros(Lt)\n",
        "  v[0] = V_init\n",
        "\n",
        "  # Set current time course\n",
        "  Iinj = Iinj * np.ones(Lt)\n",
        "\n",
        "  # If current pulse, set beginning and end to 0\n",
        "  if stop:\n",
        "    Iinj[:int(len(Iinj) / 2) - 1000] = 0\n",
        "    Iinj[int(len(Iinj) / 2) + 1000:] = 0\n",
        "\n",
        "  # Loop over time\n",
        "  rec_spikes = []  # record spike times\n",
        "  tr = 0.  # the count for refractory duration\n",
        "\n",
        "  for it in range(Lt - 1):\n",
        "\n",
        "    if tr > 0:  # check if in refractory period\n",
        "      v[it] = V_reset  # set voltage to reset\n",
        "      tr = tr - 1 # reduce running counter of refractory period\n",
        "\n",
        "    elif v[it] >= V_th:  # if voltage over threshold\n",
        "      rec_spikes.append(it)  # record spike event\n",
        "      v[it] = V_reset  # reset voltage\n",
        "      tr = tref / dt  # set refractory time\n",
        "\n",
        "    ########################################################################\n",
        "    ## TODO for students: compute the membrane potential v, spike train sp #\n",
        "    # Fill out function and remove\n",
        "    # raise NotImplementedError('Student Exercise: calculate the dv/dt and the update step!')\n",
        "    ########################################################################\n",
        "\n",
        "    # Calculate the increment of the membrane potential\n",
        "    dv = (-(v[it] - E_L) + Iinj[it] / g_L) * (dt / tau_m)\n",
        "\n",
        "    # Update the membrane potential\n",
        "    v[it + 1] = v[it] + dv\n",
        "\n",
        "  # Get spike times in ms\n",
        "  rec_spikes = np.array(rec_spikes) * dt\n",
        "\n",
        "  return v, rec_spikes\n",
        "\n",
        "\n",
        "# Get parameters\n",
        "pars = default_pars(T=500)\n",
        "\n",
        "# Simulate LIF model\n",
        "v, sp = run_LIF(pars, Iinj=100, stop=True)\n",
        "\n",
        "# Visualize\n",
        "plot_volt_trace(pars, v, sp)"
      ]
    },
    {
      "cell_type": "markdown",
      "metadata": {
        "execution": {},
        "id": "6kWDOQ1WT7za"
      },
      "source": [
        "[*Click for solution*](https://github.com/NeuromatchAcademy/course-content/tree/main//tutorials/W2D3_BiologicalNeuronModels/solutions/W2D3_Tutorial1_Solution_60a1e954.py)\n",
        "\n",
        "*Example output:*\n",
        "\n",
        "<img alt='Solution hint' align='left' width=820.0 height=539.0 src=https://raw.githubusercontent.com/NeuromatchAcademy/course-content/main/tutorials/W2D3_BiologicalNeuronModels/static/W2D3_Tutorial1_Solution_60a1e954_0.png>\n",
        "\n"
      ]
    },
    {
      "cell_type": "markdown",
      "metadata": {
        "execution": {},
        "id": "O5DM4hfJT7za"
      },
      "source": [
        "---\n",
        "# Section 2: Response of an LIF model to different types of input currents\n",
        "\n",
        "*Estimated timing to here from start of tutorial: 20 min*\n",
        "\n",
        "In the following section, we will learn how to inject direct current and white noise to study the response of an LIF neuron."
      ]
    },
    {
      "cell_type": "markdown",
      "metadata": {
        "id": "xjomCLKFT7zb"
      },
      "source": [
        "##  Video 2: Response of the LIF neuron to different inputs\n"
      ]
    },
    {
      "cell_type": "code",
      "execution_count": null,
      "metadata": {
        "cellView": "form",
        "execution": {},
        "tags": [
          "remove-input"
        ],
        "id": "tO3Zn61uT7zb"
      },
      "outputs": [],
      "source": [
        "# @title Video 2: Response of the LIF neuron to different inputs\n",
        "from ipywidgets import widgets\n",
        "\n",
        "out2 = widgets.Output()\n",
        "with out2:\n",
        "  from IPython.display import IFrame\n",
        "  class BiliVideo(IFrame):\n",
        "      def __init__(self, id, page=1, width=400, height=300, **kwargs):\n",
        "          self.id=id\n",
        "          src = 'https://player.bilibili.com/player.html?bvid={0}&page={1}'.format(id, page)\n",
        "          super(BiliVideo, self).__init__(src, width, height, **kwargs)\n",
        "\n",
        "  video = BiliVideo(id=\"av541417171\", width=730, height=410, fs=1)\n",
        "  print('Video available at https://www.bilibili.com/video/{0}'.format(video.id))\n",
        "  display(video)\n",
        "\n",
        "out1 = widgets.Output()\n",
        "with out1:\n",
        "  from IPython.display import YouTubeVideo\n",
        "  video = YouTubeVideo(id=\"preNGdab7Kk\", width=730, height=410, fs=1, rel=0)\n",
        "  print('Video available at https://youtube.com/watch?v=' + video.id)\n",
        "  display(video)\n",
        "\n",
        "out = widgets.Tab([out1, out2])\n",
        "out.set_title(0, 'Youtube')\n",
        "out.set_title(1, 'Bilibili')\n",
        "\n",
        "display(out)"
      ]
    },
    {
      "cell_type": "markdown",
      "metadata": {
        "execution": {},
        "id": "wHtek0IGT7zb"
      },
      "source": [
        "## Section 2.1: Direct current (DC)\n",
        "\n",
        "*Estimated timing to here from start of tutorial: 30 min*\n"
      ]
    },
    {
      "cell_type": "markdown",
      "metadata": {
        "execution": {},
        "id": "M02xHfFRT7zb"
      },
      "source": [
        "### Interactive Demo 2.1: Parameter exploration of DC input amplitude \n",
        "Here's an interactive demo that shows how the LIF neuron behavior changes for DC input (constant current) with different amplitudes. We plot the membrane potential of an LIF neuron. You may notice that the neuron generates a spike. But this is just a cosmetic spike only for illustration purposes. In an LIF neuron, we only need to keep track of times when the neuron hits the threshold so the postsynaptic neurons can be informed of the spike. \n",
        "\n",
        "How much DC is needed to reach the threshold (rheobase current)? How does the membrane time constant affect the frequency of the neuron?"
      ]
    },
    {
      "cell_type": "markdown",
      "metadata": {
        "id": "VHfl3KV7T7zb"
      },
      "source": [
        "#### \n"
      ]
    },
    {
      "cell_type": "markdown",
      "metadata": {
        "id": "W2Ew-b6dT7zb"
      },
      "source": [
        " Make sure you execute this cell to enable the widget!\n"
      ]
    },
    {
      "cell_type": "code",
      "execution_count": 8,
      "metadata": {
        "cellView": "form",
        "execution": {},
        "tags": [
          "hide-input"
        ],
        "id": "N2Onns5eT7zc",
        "outputId": "d13c86a4-f9db-4e47-8712-a005282622eb",
        "colab": {
          "base_uri": "https://localhost:8080/",
          "height": 495,
          "referenced_widgets": [
            "d4bf28e39cee4a5eb5f407fc5865b074",
            "8f8391c80ff9466f99d75e332e226d58",
            "55cad11dcaaa4093a88a049293e87f8d",
            "21e0743554d543c988bad550c78595e8",
            "e203cc1b05b5429fb108095010dbc4a9",
            "3bee3594df9f494198c03dbbe29916a6",
            "b684374b6dc84f4799bb407fa702e447",
            "9462b3803e504a9fa405be97c6a81f6f",
            "afeccb3f725a4974b5ad1bcc8d96ec3e"
          ]
        }
      },
      "outputs": [
        {
          "output_type": "display_data",
          "data": {
            "text/plain": [
              "interactive(children=(FloatSlider(value=50.0, description='I_dc', layout=Layout(width='450px'), max=300.0, ste…"
            ],
            "application/vnd.jupyter.widget-view+json": {
              "version_major": 2,
              "version_minor": 0,
              "model_id": "d4bf28e39cee4a5eb5f407fc5865b074"
            }
          },
          "metadata": {}
        }
      ],
      "source": [
        "# @title\n",
        "# @markdown Make sure you execute this cell to enable the widget!\n",
        "my_layout.width = '450px'\n",
        "@widgets.interact(\n",
        "    I_dc=widgets.FloatSlider(50., min=0., max=300., step=10.,\n",
        "                               layout=my_layout),\n",
        "    tau_m=widgets.FloatSlider(10., min=2., max=20., step=2.,\n",
        "                                layout=my_layout)\n",
        ")\n",
        "\n",
        "def diff_DC(I_dc=200., tau_m=10.):\n",
        "  pars = default_pars(T=100.)\n",
        "  pars['tau_m'] = tau_m\n",
        "  v, sp = run_LIF(pars, Iinj=I_dc)\n",
        "  plot_volt_trace(pars, v, sp)\n",
        "  plt.show()"
      ]
    },
    {
      "cell_type": "markdown",
      "metadata": {
        "execution": {},
        "id": "kEgHYFm2T7zc"
      },
      "source": [
        "[*Click for solution*](https://github.com/NeuromatchAcademy/course-content/tree/main//tutorials/W2D3_BiologicalNeuronModels/solutions/W2D3_Tutorial1_Solution_1058324c.py)\n",
        "\n"
      ]
    },
    {
      "cell_type": "markdown",
      "metadata": {
        "execution": {},
        "id": "q2jufaEJT7zc"
      },
      "source": [
        "## Section 2.2: Gaussian white noise (GWN) current \n",
        "\n",
        "*Estimated timing to here from start of tutorial: 38 min*\n",
        "\n",
        "Given the noisy nature of neuronal activity _in vivo_, neurons usually receive complex, time-varying inputs.\n",
        "\n",
        "To mimic this, we will now investigate the neuronal response when the LIF neuron receives Gaussian white noise $\\xi(t)$ with mean 0 ($\\mu = 0$) and some standard deviation $\\sigma$.\n",
        "\n",
        "Note that the GWN has zero mean, that is, it describes only the fluctuations of the input received by a neuron. We can thus modify our definition of GWN to have a nonzero mean value $\\mu$ that equals the DC input, since this is the average input into the cell. The cell below defines the modified gaussian white noise currents with nonzero mean $\\mu$."
      ]
    },
    {
      "cell_type": "markdown",
      "metadata": {
        "execution": {},
        "id": "ylazCKs6T7zc"
      },
      "source": [
        "### Interactive Demo 2.2: LIF neuron Explorer for noisy input\n",
        "\n",
        "\n",
        "The mean of the Gaussian white noise (GWN) is the amplitude of DC. Indeed, when $\\sigma = 0$, GWN is just a DC.\n",
        "\n",
        "So the question arises how does $\\sigma$ of the GWN affect the spiking behavior of the neuron. For instance we may want to know\n",
        "1.  how does the minimum input (i.e., $\\mu$) needed to make a neuron spike change with increase in $\\sigma$\n",
        "2.  how does the spike regularity change with increase in $\\sigma$\n",
        "\n",
        "To get an intuition about these questions you can use the following interactive demo that shows how the LIF neuron behavior changes for noisy input with different amplitudes (the mean $\\mu$) and fluctuation sizes ($\\sigma$). We use a helper function to generate this noisy input current: `my_GWN(pars, mu, sig, myseed=False)`.  Note that fixing the value of the random seed (e.g., `myseed=2020`) will allow you to obtain the same result every time you run this. We then use our `run_LIF` function to simulate the LIF model.\n"
      ]
    },
    {
      "cell_type": "markdown",
      "metadata": {
        "id": "y8-iIqpyT7zc"
      },
      "source": [
        " Execute to enable helper function `my_GWN`\n"
      ]
    },
    {
      "cell_type": "code",
      "execution_count": 9,
      "metadata": {
        "cellView": "form",
        "execution": {},
        "tags": [
          "hide-input"
        ],
        "id": "hiITqfjjT7zc",
        "outputId": "cd08474e-418f-42c8-b89a-b8eb058b1190",
        "colab": {
          "base_uri": "https://localhost:8080/"
        }
      },
      "outputs": [
        {
          "output_type": "stream",
          "name": "stdout",
          "text": [
            "Help on function my_GWN in module __main__:\n",
            "\n",
            "my_GWN(pars, mu, sig, myseed=False)\n",
            "    Function that generates Gaussian white noise input\n",
            "    \n",
            "    Args:\n",
            "      pars       : parameter dictionary\n",
            "      mu         : noise baseline (mean)\n",
            "      sig        : noise amplitute (standard deviation)\n",
            "      myseed     : random seed. int or boolean\n",
            "                   the same seed will give the same\n",
            "                   random number sequence\n",
            "    \n",
            "    Returns:\n",
            "      I          : Gaussian white noise input\n",
            "\n"
          ]
        }
      ],
      "source": [
        "# @markdown Execute to enable helper function `my_GWN`\n",
        "\n",
        "def my_GWN(pars, mu, sig, myseed=False):\n",
        "  \"\"\"\n",
        "  Function that generates Gaussian white noise input\n",
        "\n",
        "  Args:\n",
        "    pars       : parameter dictionary\n",
        "    mu         : noise baseline (mean)\n",
        "    sig        : noise amplitute (standard deviation)\n",
        "    myseed     : random seed. int or boolean\n",
        "                 the same seed will give the same\n",
        "                 random number sequence\n",
        "\n",
        "  Returns:\n",
        "    I          : Gaussian white noise input\n",
        "  \"\"\"\n",
        "\n",
        "  # Retrieve simulation parameters\n",
        "  dt, range_t = pars['dt'], pars['range_t']\n",
        "  Lt = range_t.size\n",
        "\n",
        "  # Set random seed\n",
        "  if myseed:\n",
        "      np.random.seed(seed=myseed)\n",
        "  else:\n",
        "      np.random.seed()\n",
        "\n",
        "  # Generate GWN\n",
        "  # we divide here by 1000 to convert units to sec.\n",
        "  I_gwn = mu + sig * np.random.randn(Lt) / np.sqrt(dt / 1000.)\n",
        "\n",
        "  return I_gwn\n",
        "\n",
        "help(my_GWN)"
      ]
    },
    {
      "cell_type": "markdown",
      "metadata": {
        "id": "jiDCXTVLT7zd"
      },
      "source": [
        "#### \n"
      ]
    },
    {
      "cell_type": "markdown",
      "metadata": {
        "id": "i5HcwVrbT7zd"
      },
      "source": [
        " Make sure you execute this cell to enable the widget!\n"
      ]
    },
    {
      "cell_type": "code",
      "execution_count": 10,
      "metadata": {
        "cellView": "form",
        "execution": {},
        "tags": [
          "hide-input"
        ],
        "id": "iqOASFcaT7zd",
        "outputId": "b41b552d-b0df-4d09-eaa7-da841eabd4a4",
        "colab": {
          "base_uri": "https://localhost:8080/",
          "height": 351,
          "referenced_widgets": [
            "f16ca46c8d81471191bfcc4eebf4ae5b",
            "6513d28e2e494af08f0e778f0d6c8e22",
            "dd1f64aa12a9485eba732b0ba3c4c1f4",
            "4b3489b3f2fc4ef08c55d96f0104c22b",
            "2cc1e3c7db2a492c80155e026cfa7a8e",
            "3bee3594df9f494198c03dbbe29916a6",
            "583a325e07ab4f28b61decb5fe9d764b",
            "262c61287f424d16914cb87cb91f556f",
            "1263b274fdf04883b683d359b27d2775"
          ]
        }
      },
      "outputs": [
        {
          "output_type": "display_data",
          "data": {
            "text/plain": [
              "interactive(children=(FloatSlider(value=200.0, description='mu_gwn', layout=Layout(width='450px'), max=300.0, …"
            ],
            "application/vnd.jupyter.widget-view+json": {
              "version_major": 2,
              "version_minor": 0,
              "model_id": "f16ca46c8d81471191bfcc4eebf4ae5b"
            }
          },
          "metadata": {}
        }
      ],
      "source": [
        "# @title\n",
        "\n",
        "# @markdown Make sure you execute this cell to enable the widget!\n",
        "\n",
        "my_layout.width = '450px'\n",
        "@widgets.interact(\n",
        "    mu_gwn=widgets.FloatSlider(200., min=100., max=300., step=5.,\n",
        "                               layout=my_layout),\n",
        "    sig_gwn=widgets.FloatSlider(2.5, min=0., max=5., step=.5,\n",
        "                                layout=my_layout)\n",
        ")\n",
        "\n",
        "\n",
        "def diff_GWN_to_LIF(mu_gwn, sig_gwn):\n",
        "  pars = default_pars(T=100.)\n",
        "  I_GWN = my_GWN(pars, mu=mu_gwn, sig=sig_gwn)\n",
        "  v, sp = run_LIF(pars, Iinj=I_GWN)\n",
        "  plt.figure(figsize=(12, 4))\n",
        "  plt.subplot(121)\n",
        "  plt.plot(pars['range_t'][::3], I_GWN[::3], 'b')\n",
        "  plt.xlabel('Time (ms)')\n",
        "  plt.ylabel(r'$I_{GWN}$ (pA)')\n",
        "  plt.subplot(122)\n",
        "  plot_volt_trace(pars, v, sp)\n",
        "  plt.tight_layout()\n",
        "  plt.show()"
      ]
    },
    {
      "cell_type": "markdown",
      "metadata": {
        "execution": {},
        "id": "k3dZweyCT7ze"
      },
      "source": [
        "[*Click for solution*](https://github.com/NeuromatchAcademy/course-content/tree/main//tutorials/W2D3_BiologicalNeuronModels/solutions/W2D3_Tutorial1_Solution_2de5d8a9.py)\n",
        "\n"
      ]
    },
    {
      "cell_type": "markdown",
      "metadata": {
        "execution": {},
        "id": "uqYc0Oq5T7ze"
      },
      "source": [
        "### Think! 2.2: Analyzing GWN Effects on Spiking\n",
        "- As we increase the input average ($\\mu$) or the input fluctuation ($\\sigma$), the spike count changes. How much can we increase the spike count, and what might be the relationship between GWN mean/std or DC value and spike count? \n",
        "\n",
        "- We have seen above that when we inject DC, the neuron spikes in a regular manner (clock-like), and this regularity is reduced when GWN is injected. The question is, how irregular can we make the neurons spiking by changing the parameters of the GWN? \n",
        "\n",
        "We will see the answers to these questions in the next section but discuss first!\n"
      ]
    },
    {
      "cell_type": "markdown",
      "metadata": {
        "execution": {},
        "id": "6JjyzCBnT7ze"
      },
      "source": [
        "---\n",
        "# Section 3: Firing rate and spike time irregularity\n",
        "\n",
        "*Estimated timing to here from start of tutorial: 48 min*\n",
        "\n",
        "When we plot the output firing rate as a function of GWN mean or DC value, it is called the input-output transfer function of the neuron (so simply F-I curve).\n",
        "\n",
        "Spike regularity can be quantified as the **coefficient of variation (CV) of the interspike interval (ISI)**:\n",
        "\n",
        "\\begin{equation}\n",
        "\\text{CV}_{\\text{ISI}} = \\frac{std(\\text{ISI})}{mean(\\text{ISI})}\n",
        "\\end{equation}\n",
        "\n",
        "A Poisson train is an example of high irregularity, in which $\\textbf{CV}_{\\textbf{ISI}} \\textbf{= 1}$. And for a clocklike (regular) process we have $\\textbf{CV}_{\\textbf{ISI}} \\textbf{= 0}$ because of **std(ISI)=0**."
      ]
    },
    {
      "cell_type": "markdown",
      "metadata": {
        "execution": {},
        "id": "cfukS-DQT7ze"
      },
      "source": [
        "## Interactive Demo 3A: F-I Explorer for different `sig_gwn`\n",
        "\n",
        "How does the F-I curve of the LIF neuron change as we increase the $\\sigma$ of the GWN? We can already expect that the F-I curve will be stochastic and the results will vary from one trial to another. But will there be any other change compared to the F-I curved measured using DC?\n",
        "\n",
        "Here's an interactive demo that shows how the F-I curve of a LIF neuron changes for different levels of fluctuation $\\sigma$.\n"
      ]
    },
    {
      "cell_type": "markdown",
      "metadata": {
        "id": "dgtMn57BT7ze"
      },
      "source": [
        "### \n"
      ]
    },
    {
      "cell_type": "markdown",
      "metadata": {
        "id": "AfIceCK_T7ze"
      },
      "source": [
        " Make sure you execute this cell to enable the widget!\n"
      ]
    },
    {
      "cell_type": "code",
      "execution_count": 16,
      "metadata": {
        "cellView": "form",
        "execution": {},
        "tags": [
          "hide-input"
        ],
        "id": "50UEzXlCT7ze",
        "outputId": "9b00c0ca-ec1d-492f-f059-a78ff01df032",
        "colab": {
          "base_uri": "https://localhost:8080/",
          "height": 463,
          "referenced_widgets": [
            "d8e3acca8197499f8f3664af0119a34f",
            "2e68803d865b493d93339d8c5454c5bf",
            "763c6b6fb8ea4b578043fcadd74d5902",
            "0038aebc10a14f738ea7fc246f727ee1",
            "3bee3594df9f494198c03dbbe29916a6",
            "e21fc2e781804906bd760cb44f412045",
            "c233a04f28ea4d0aab26ead9dd73ee73"
          ]
        }
      },
      "outputs": [
        {
          "output_type": "display_data",
          "data": {
            "text/plain": [
              "interactive(children=(FloatSlider(value=3.0, description='sig_gwn', layout=Layout(width='450px'), max=6.0, ste…"
            ],
            "application/vnd.jupyter.widget-view+json": {
              "version_major": 2,
              "version_minor": 0,
              "model_id": "d8e3acca8197499f8f3664af0119a34f"
            }
          },
          "metadata": {}
        }
      ],
      "source": [
        "# @title\n",
        "\n",
        "# @markdown Make sure you execute this cell to enable the widget!\n",
        "\n",
        "\n",
        "my_layout.width = '450px'\n",
        "@widgets.interact(\n",
        "    sig_gwn=widgets.FloatSlider(3.0, min=0., max=6., step=0.5,\n",
        "                                layout=my_layout)\n",
        ")\n",
        "\n",
        "\n",
        "def diff_std_affect_fI(sig_gwn):\n",
        "  pars = default_pars(T=1000.)\n",
        "  I_mean = np.arange(100., 400., 10.)\n",
        "  spk_count = np.zeros(len(I_mean))\n",
        "  spk_count_dc = np.zeros(len(I_mean))\n",
        "\n",
        "  for idx in range(len(I_mean)):\n",
        "      I_GWN = my_GWN(pars, mu=I_mean[idx], sig=sig_gwn, myseed=2020)\n",
        "      v, rec_spikes = run_LIF(pars, Iinj=I_GWN)\n",
        "      v_dc, rec_sp_dc = run_LIF(pars, Iinj=I_mean[idx])\n",
        "      spk_count[idx] = len(rec_spikes)\n",
        "      spk_count_dc[idx] = len(rec_sp_dc)\n",
        "\n",
        "  # Plot the F-I curve i.e. Output firing rate as a function of input mean.\n",
        "  plt.figure()\n",
        "  plt.plot(I_mean, spk_count, 'k',\n",
        "           label=r'$\\sigma_{\\mathrm{GWN}}=%.2f$' % sig_gwn)\n",
        "  plt.plot(I_mean, spk_count_dc, 'k--', alpha=0.5, lw=4, dashes=(2, 2),\n",
        "           label='DC input')\n",
        "  plt.ylabel('Spike count')\n",
        "  plt.xlabel('Average injected current (pA)')\n",
        "  plt.legend(loc='best')\n",
        "  plt.show()"
      ]
    },
    {
      "cell_type": "markdown",
      "metadata": {
        "execution": {},
        "id": "3vZi3zGRT7zf"
      },
      "source": [
        "[*Click for solution*](https://github.com/NeuromatchAcademy/course-content/tree/main//tutorials/W2D3_BiologicalNeuronModels/solutions/W2D3_Tutorial1_Solution_5aa4e3b0.py)\n",
        "\n"
      ]
    },
    {
      "cell_type": "markdown",
      "metadata": {
        "execution": {},
        "id": "CUo0lByQT7zf"
      },
      "source": [
        "## Coding Exercise 3: Compute $CV_{ISI}$ values\n",
        "\n",
        "As shown above, the F-I curve becomes smoother while increasing the amplitude of the fluctuation ($\\sigma$). In addition, the fluctuation can also change the irregularity of the spikes. Let's investigate the effect of $\\mu=250$ with $\\sigma=0.5$ vs $\\sigma=3$. \n",
        "\n",
        "Fill in the code below to compute ISI, then plot the histogram of the ISI and compute the $CV_{ISI}$. Note that, you can use `np.diff` to calculate ISI."
      ]
    },
    {
      "cell_type": "code",
      "execution_count": 13,
      "metadata": {
        "execution": {},
        "id": "4Wm-rAojT7zf",
        "outputId": "bf7e174f-5ed5-4dc1-e745-b15981e96ec4",
        "colab": {
          "base_uri": "https://localhost:8080/",
          "height": 286
        }
      },
      "outputs": [
        {
          "output_type": "display_data",
          "data": {
            "text/plain": [
              "<Figure size 792x288 with 2 Axes>"
            ],
            "image/png": "[encoded data removed]"
          },
          "metadata": {
            "image/png": {
              "width": 773,
              "height": 269
            },
            "needs_background": "light"
          }
        }
      ],
      "source": [
        "def isi_cv_LIF(spike_times):\n",
        "  \"\"\"\n",
        "  Calculates the interspike intervals (isi) and\n",
        "  the coefficient of variation (cv) for a given spike_train\n",
        "\n",
        "  Args:\n",
        "    spike_times : (n, ) vector with the spike times (ndarray)\n",
        "\n",
        "  Returns:\n",
        "    isi         : (n-1,) vector with the inter-spike intervals (ms)\n",
        "    cv          : coefficient of variation of isi (float)\n",
        "\n",
        "  \"\"\"\n",
        "  ########################################################################\n",
        "  ## TODO for students: compute the membrane potential v, spike train sp #\n",
        "  # Fill out function and remove\n",
        "  # raise NotImplementedError('Student Exercise: calculate the isi and the cv!')\n",
        "  ########################################################################\n",
        "  if len(spike_times) >= 2:\n",
        "    # Compute isi\n",
        "    isi = np.diff(spike_times)\n",
        "    # Compute cv\n",
        "    cv = isi.std()/isi.mean()\n",
        "  else:\n",
        "    isi = np.nan\n",
        "    cv = np.nan\n",
        "\n",
        "  return isi, cv\n",
        "\n",
        "\n",
        "# Set parameters\n",
        "pars = default_pars(T=1000.)\n",
        "mu_gwn = 250\n",
        "sig_gwn1 = 0.5\n",
        "sig_gwn2 = 3.0\n",
        "\n",
        "# Run LIF model for sigma = 0.5\n",
        "I_GWN1 = my_GWN(pars, mu=mu_gwn, sig=sig_gwn1, myseed=2020)\n",
        "_, sp1 = run_LIF(pars, Iinj=I_GWN1)\n",
        "\n",
        "# Run LIF model for sigma = 3\n",
        "I_GWN2 = my_GWN(pars, mu=mu_gwn, sig=sig_gwn2, myseed=2020)\n",
        "_, sp2 = run_LIF(pars, Iinj=I_GWN2)\n",
        "\n",
        "# Compute ISIs/CV\n",
        "isi1, cv1 = isi_cv_LIF(sp1)\n",
        "isi2, cv2 = isi_cv_LIF(sp2)\n",
        "\n",
        "# Visualize\n",
        "my_hists(isi1, isi2, cv1, cv2, sig_gwn1, sig_gwn2)"
      ]
    },
    {
      "cell_type": "markdown",
      "metadata": {
        "execution": {},
        "id": "LQQQyLSuT7zf"
      },
      "source": [
        "[*Click for solution*](https://github.com/NeuromatchAcademy/course-content/tree/main//tutorials/W2D3_BiologicalNeuronModels/solutions/W2D3_Tutorial1_Solution_27d69c89.py)\n",
        "\n",
        "*Example output:*\n",
        "\n",
        "<img alt='Solution hint' align='left' width=1078.0 height=378.0 src=https://raw.githubusercontent.com/NeuromatchAcademy/course-content/main/tutorials/W2D3_BiologicalNeuronModels/static/W2D3_Tutorial1_Solution_27d69c89_0.png>\n",
        "\n"
      ]
    },
    {
      "cell_type": "markdown",
      "metadata": {
        "execution": {},
        "id": "28mmg2LDT7zg"
      },
      "source": [
        "## Interactive Demo 3B: Spike irregularity explorer for different `sig_gwn`\n",
        "\n",
        "In the above illustration, we see that the CV of inter-spike-interval (ISI) distribution depends on $\\sigma$ of GWN. What about the mean of GWN, should that also affect the CV$_{\\rm ISI}$? If yes, how? Does the efficacy of $\\sigma$ in increasing the CV$_{\\rm ISI}$ depend on $\\mu$?\n",
        "\n",
        "In the following interactive demo, you will examine how different levels of fluctuation $\\sigma$ affect the CVs for different average injected currents ($\\mu$).\n",
        "\n",
        "1. Does the standard deviation of the injected current affect the F-I curve in any qualitative manner?\n",
        "2. Why does increasing the mean of GWN reduce the CV$_{\\rm ISI}$?\n",
        "3.  If you plot spike count (or rate) vs. CV$_{\\rm ISI}$, should there be a relationship between the two? Try out yourself."
      ]
    },
    {
      "cell_type": "markdown",
      "metadata": {
        "id": "em3VSxpCT7zg"
      },
      "source": [
        "### \n"
      ]
    },
    {
      "cell_type": "markdown",
      "metadata": {
        "id": "cSYZbbBsT7zg"
      },
      "source": [
        " Make sure you execute this cell to enable the widget!\n"
      ]
    },
    {
      "cell_type": "code",
      "execution_count": 17,
      "metadata": {
        "cellView": "form",
        "execution": {},
        "tags": [
          "hide-input"
        ],
        "id": "Wqg4inJbT7zg",
        "outputId": "c89c6412-f6a1-4799-8b3c-d5d02e7cd08e",
        "colab": {
          "base_uri": "https://localhost:8080/",
          "height": 462,
          "referenced_widgets": [
            "a4b4d42a6b5d40cba58a81e6028a4ab4",
            "7c17cf901a7c4e808e18c980d61fccc4",
            "7898e85f2f5b4c99ac5f8763df0fa6bf",
            "f7def6ef778b4fc0bd78fa074e0974e7",
            "3bee3594df9f494198c03dbbe29916a6",
            "ce92c59850bb4a2f81a30407e25c1d63",
            "24a5b24a51224e00a871da6f99f785cf"
          ]
        }
      },
      "outputs": [
        {
          "output_type": "display_data",
          "data": {
            "text/plain": [
              "interactive(children=(FloatSlider(value=0.0, description='sig_gwn', layout=Layout(width='450px'), max=10.0, st…"
            ],
            "application/vnd.jupyter.widget-view+json": {
              "version_major": 2,
              "version_minor": 0,
              "model_id": "a4b4d42a6b5d40cba58a81e6028a4ab4"
            }
          },
          "metadata": {}
        }
      ],
      "source": [
        "#@title\n",
        "\n",
        "#@markdown Make sure you execute this cell to enable the widget!\n",
        "\n",
        "my_layout.width = '450px'\n",
        "@widgets.interact(\n",
        "    sig_gwn=widgets.FloatSlider(0.0, min=0., max=10.,\n",
        "                                step=0.5, layout=my_layout)\n",
        ")\n",
        "\n",
        "\n",
        "def diff_std_affect_fI(sig_gwn):\n",
        "  pars = default_pars(T=1000.)\n",
        "  I_mean = np.arange(100., 400., 20)\n",
        "  spk_count = np.zeros(len(I_mean))\n",
        "  cv_isi = np.empty(len(I_mean))\n",
        "\n",
        "  for idx in range(len(I_mean)):\n",
        "    I_GWN = my_GWN(pars, mu=I_mean[idx], sig=sig_gwn)\n",
        "    v, rec_spikes = run_LIF(pars, Iinj=I_GWN)\n",
        "    spk_count[idx] = len(rec_spikes)\n",
        "    if len(rec_spikes) > 3:\n",
        "      isi = np.diff(rec_spikes)\n",
        "      cv_isi[idx] = np.std(isi) / np.mean(isi)\n",
        "\n",
        "  # Plot the F-I curve i.e. Output firing rate as a function of input mean.\n",
        "  plt.figure()\n",
        "  plt.plot(I_mean[spk_count > 5], cv_isi[spk_count > 5], 'bo', alpha=0.5)\n",
        "  plt.xlabel('Average injected current (pA)')\n",
        "  plt.ylabel(r'Spike irregularity ($\\mathrm{CV}_\\mathrm{ISI}$)')\n",
        "  plt.ylim(-0.1, 1.5)\n",
        "  plt.grid(True)\n",
        "  plt.show()"
      ]
    },
    {
      "cell_type": "markdown",
      "metadata": {
        "execution": {},
        "id": "QLHHtUgKT7zg"
      },
      "source": [
        "[*Click for solution*](https://github.com/NeuromatchAcademy/course-content/tree/main//tutorials/W2D3_BiologicalNeuronModels/solutions/W2D3_Tutorial1_Solution_c6f1c4a2.py)\n",
        "\n"
      ]
    },
    {
      "cell_type": "markdown",
      "metadata": {
        "execution": {},
        "id": "XouUOT9pT7zg"
      },
      "source": [
        "---\n",
        "# Summary\n",
        "\n",
        "*Estimated timing of tutorial: 1 hour, 10 min*\n",
        "\n",
        "Congratulations! You've just built a leaky integrate-and-fire (LIF) neuron model from scratch, and studied its dynamics in response to various types of inputs, having:\n",
        "\n",
        "- simulated the LIF neuron model\n",
        "\n",
        "- driven the LIF neuron with external inputs, such as direct current and Gaussian white noise\n",
        "\n",
        "- studied how different inputs affect the  LIF neuron's output (firing rate and spike time irregularity),\n",
        "\n",
        "with a special focus on low rate and irregular firing regime to mimic real cortical neurons. The next tutorial will look at how spiking statistics may be influenced by a neuron's input statistics.\n",
        "\n",
        "If you have extra time, look at the bonus sections below to explore a different type of noise input and learn about extensions to integrate-and-fire models.\n"
      ]
    },
    {
      "cell_type": "markdown",
      "metadata": {
        "execution": {},
        "id": "iqG7VMUMT7zh"
      },
      "source": [
        "---\n",
        "# Bonus"
      ]
    },
    {
      "cell_type": "markdown",
      "metadata": {
        "execution": {},
        "id": "yWuT6-YWT7zh"
      },
      "source": [
        "---\n",
        "## Bonus Section 1: Ornstein-Uhlenbeck Process\n",
        "\n",
        "When a neuron receives spiking input, the synaptic current is Shot Noise -- which is a kind of colored noise and the spectrum of the noise determined by the synaptic kernel time constant. That is, a neuron is driven by **colored noise** and not GWN.\n",
        "\n",
        "We can model colored noise using the Ornstein-Uhlenbeck process - filtered white noise. "
      ]
    },
    {
      "cell_type": "markdown",
      "metadata": {
        "execution": {},
        "id": "FmrZ04_rT7zh"
      },
      "source": [
        "We next study if the input current is temporally correlated and is modeled as an Ornstein-Uhlenbeck process $\\eta(t)$, i.e., low-pass filtered GWN with a time constant $\\tau_{\\eta}$: \n",
        "\n",
        "\\begin{equation}\n",
        "\\tau_\\eta \\frac{d}{dt}\\eta(t) = \\mu-\\eta(t) + \\sigma_\\eta\\sqrt{2\\tau_\\eta}\\xi(t)\n",
        "\\end{equation}\n",
        "\n",
        "**Hint:** An OU process as defined above has\n",
        "\n",
        "\\begin{equation}\n",
        "\\mathbb{E}[\\eta(t)]=\\mu\n",
        "\\end{equation}\n",
        "\n",
        "and autocovariance \n",
        "\n",
        "\\begin{equation}\n",
        "[\\eta(t)\\eta(t+\\tau)]=\\sigma_\\eta^2e^{-|t-\\tau|/\\tau_\\eta}\n",
        "\\end{equation}\n",
        "\n",
        "which can be used to check your code. "
      ]
    },
    {
      "cell_type": "markdown",
      "metadata": {
        "id": "zYkLK1etT7zh"
      },
      "source": [
        " Execute this cell to get helper function `my_OU`\n"
      ]
    },
    {
      "cell_type": "code",
      "execution_count": null,
      "metadata": {
        "cellView": "form",
        "execution": {},
        "tags": [
          "hide-input"
        ],
        "id": "rW_EsUwPT7zh"
      },
      "outputs": [],
      "source": [
        "# @markdown Execute this cell to get helper function `my_OU`\n",
        "\n",
        "\n",
        "def my_OU(pars, mu, sig, myseed=False):\n",
        "  \"\"\"\n",
        "  Function that produces Ornstein-Uhlenbeck input\n",
        "\n",
        "  Args:\n",
        "    pars       : parameter dictionary\n",
        "    sig        : noise amplitute\n",
        "    myseed     : random seed. int or boolean\n",
        "\n",
        "  Returns:\n",
        "    I_ou       : Ornstein-Uhlenbeck input current\n",
        "  \"\"\"\n",
        "\n",
        "  # Retrieve simulation parameters\n",
        "  dt, range_t = pars['dt'], pars['range_t']\n",
        "  Lt = range_t.size\n",
        "  tau_ou = pars['tau_ou']  # [ms]\n",
        "\n",
        "  # set random seed\n",
        "  if myseed:\n",
        "    np.random.seed(seed=myseed)\n",
        "  else:\n",
        "    np.random.seed()\n",
        "\n",
        "  # Initialize\n",
        "  noise = np.random.randn(Lt)\n",
        "  I_ou = np.zeros(Lt)\n",
        "  I_ou[0] = noise[0] * sig\n",
        "\n",
        "  # generate OU\n",
        "  for it in range(Lt-1):\n",
        "    I_ou[it+1] = I_ou[it] + (dt / tau_ou) * (mu - I_ou[it]) + np.sqrt(2 * dt / tau_ou) * sig * noise[it + 1]\n",
        "\n",
        "  return I_ou\n",
        "\n",
        "\n",
        "help(my_OU)"
      ]
    },
    {
      "cell_type": "markdown",
      "metadata": {
        "execution": {},
        "id": "tuKpyLNDT7zh"
      },
      "source": [
        "### Bonus Interactive Demo 1: LIF Explorer with OU input\n",
        "In the following, we will check how a neuron responds to a noisy current that follows the statistics of an OU process.\n",
        "\n",
        "-  How does the OU type input change neuron responsiveness? \n",
        "-  What do you think will happen to the spike pattern and rate if you increased or decreased the time constant of the OU process?"
      ]
    },
    {
      "cell_type": "markdown",
      "metadata": {
        "id": "s3ojHGosT7zi"
      },
      "source": [
        "#### \n"
      ]
    },
    {
      "cell_type": "markdown",
      "metadata": {
        "id": "eXnTD8cCT7zi"
      },
      "source": [
        " Remember to enable the widget by running the cell!\n"
      ]
    },
    {
      "cell_type": "code",
      "execution_count": null,
      "metadata": {
        "cellView": "form",
        "execution": {},
        "tags": [
          "hide-input"
        ],
        "id": "N9zte_reT7zi"
      },
      "outputs": [],
      "source": [
        "# @title\n",
        "\n",
        "# @markdown Remember to enable the widget by running the cell!\n",
        "\n",
        "my_layout.width = '450px'\n",
        "@widgets.interact(\n",
        "  tau_ou=widgets.FloatSlider(10.0, min=5., max=20.,\n",
        "                             step=2.5, layout=my_layout),\n",
        "  sig_ou=widgets.FloatSlider(10.0, min=5., max=40.,\n",
        "                             step=2.5, layout=my_layout),\n",
        "  mu_ou=widgets.FloatSlider(190.0, min=180., max=220.,\n",
        "                            step=2.5, layout=my_layout)\n",
        ")\n",
        "\n",
        "\n",
        "def LIF_with_OU(tau_ou=10., sig_ou=40., mu_ou=200.):\n",
        "  pars = default_pars(T=1000.)\n",
        "  pars['tau_ou'] = tau_ou  # [ms]\n",
        "\n",
        "  I_ou = my_OU(pars, mu_ou, sig_ou)\n",
        "\n",
        "  v, sp = run_LIF(pars, Iinj=I_ou)\n",
        "\n",
        "  plt.figure(figsize=(12, 4))\n",
        "  plt.subplot(121)\n",
        "  plt.plot(pars['range_t'], I_ou, 'b', lw=1.0)\n",
        "  plt.xlabel('Time (ms)')\n",
        "  plt.ylabel(r'$I_{\\mathrm{OU}}$ (pA)')\n",
        "  plt.subplot(122)\n",
        "  plot_volt_trace(pars, v, sp)\n",
        "  plt.tight_layout()\n",
        "  plt.show()"
      ]
    },
    {
      "cell_type": "markdown",
      "metadata": {
        "execution": {},
        "id": "UMNe9kiST7zi"
      },
      "source": [
        "[*Click for solution*](https://github.com/NeuromatchAcademy/course-content/tree/main//tutorials/W2D3_BiologicalNeuronModels/solutions/W2D3_Tutorial1_Solution_a0f797af.py)\n",
        "\n"
      ]
    },
    {
      "cell_type": "markdown",
      "metadata": {
        "execution": {},
        "id": "DGg-fHegT7zi"
      },
      "source": [
        "---\n",
        "## Bonus Section 2: Generalized Integrate-and-Fire models\n",
        "\n",
        "LIF model is not the only abstraction of real neurons. If you want to learn about more realistic types of neuronal models, watch the Bonus Video!"
      ]
    },
    {
      "cell_type": "markdown",
      "metadata": {
        "id": "w11aHvvfT7zj"
      },
      "source": [
        "###  Video 3 (Bonus): Extensions to Integrate-and-Fire models\n"
      ]
    },
    {
      "cell_type": "code",
      "execution_count": null,
      "metadata": {
        "cellView": "form",
        "execution": {},
        "tags": [
          "remove-input"
        ],
        "id": "ZPa9iH7cT7zj"
      },
      "outputs": [],
      "source": [
        "# @title Video 3 (Bonus): Extensions to Integrate-and-Fire models\n",
        "from ipywidgets import widgets\n",
        "\n",
        "out2 = widgets.Output()\n",
        "with out2:\n",
        "  from IPython.display import IFrame\n",
        "  class BiliVideo(IFrame):\n",
        "      def __init__(self, id, page=1, width=400, height=300, **kwargs):\n",
        "          self.id=id\n",
        "          src = 'https://player.bilibili.com/player.html?bvid={0}&page={1}'.format(id, page)\n",
        "          super(BiliVideo, self).__init__(src, width, height, **kwargs)\n",
        "\n",
        "  video = BiliVideo(id=\"\", width=730, height=410, fs=1)\n",
        "  print('Video available at https://www.bilibili.com/video/{0}'.format(video.id))\n",
        "  display(video)\n",
        "\n",
        "out1 = widgets.Output()\n",
        "with out1:\n",
        "  from IPython.display import YouTubeVideo\n",
        "  video = YouTubeVideo(id=\"G0b6wLhuQxE\", width=730, height=410, fs=1, rel=0)\n",
        "  print('Video available at https://youtube.com/watch?v=' + video.id)\n",
        "  display(video)\n",
        "\n",
        "out = widgets.Tab([out1, out2])\n",
        "out.set_title(0, 'Youtube')\n",
        "out.set_title(1, 'Bilibili')\n",
        "\n",
        "display(out)"
      ]
    }
  ],
  "metadata": {
    "colab": {
      "collapsed_sections": [],
      "name": "W2D3_Tutorial1",
      "provenance": [],
      "toc_visible": true
    },
    "kernel": {
      "display_name": "Python 3",
      "language": "python",
      "name": "python3"
    },
    "kernelspec": {
      "display_name": "Python 3",
      "name": "python3"
    },
    "language_info": {
      "codemirror_mode": {
        "name": "ipython",
        "version": 3
      },
      "file_extension": ".py",
      "mimetype": "text/x-python",
      "name": "python",
      "nbconvert_exporter": "python",
      "pygments_lexer": "ipython3",
      "version": "3.7.13"
    },
    "widgets": {
      "application/vnd.jupyter.widget-state+json": {
        "d4bf28e39cee4a5eb5f407fc5865b074": {
          "model_module": "@jupyter-widgets/controls",
          "model_name": "VBoxModel",
          "model_module_version": "1.5.0",
          "state": {
            "_dom_classes": [
              "widget-interact"
            ],
            "_model_module": "@jupyter-widgets/controls",
            "_model_module_version": "1.5.0",
            "_model_name": "VBoxModel",
            "_view_count": null,
            "_view_module": "@jupyter-widgets/controls",
            "_view_module_version": "1.5.0",
            "_view_name": "VBoxView",
            "box_style": "",
            "children": [
              "IPY_MODEL_8f8391c80ff9466f99d75e332e226d58",
              "IPY_MODEL_55cad11dcaaa4093a88a049293e87f8d",
              "IPY_MODEL_21e0743554d543c988bad550c78595e8"
            ],
            "layout": "IPY_MODEL_e203cc1b05b5429fb108095010dbc4a9"
          }
        },
        "8f8391c80ff9466f99d75e332e226d58": {
          "model_module": "@jupyter-widgets/controls",
          "model_name": "FloatSliderModel",
          "model_module_version": "1.5.0",
          "state": {
            "_dom_classes": [],
            "_model_module": "@jupyter-widgets/controls",
            "_model_module_version": "1.5.0",
            "_model_name": "FloatSliderModel",
            "_view_count": null,
            "_view_module": "@jupyter-widgets/controls",
            "_view_module_version": "1.5.0",
            "_view_name": "FloatSliderView",
            "continuous_update": true,
            "description": "I_dc",
            "description_tooltip": null,
            "disabled": false,
            "layout": "IPY_MODEL_3bee3594df9f494198c03dbbe29916a6",
            "max": 300,
            "min": 0,
            "orientation": "horizontal",
            "readout": true,
            "readout_format": ".2f",
            "step": 10,
            "style": "IPY_MODEL_b684374b6dc84f4799bb407fa702e447",
            "value": 200
          }
        },
        "55cad11dcaaa4093a88a049293e87f8d": {
          "model_module": "@jupyter-widgets/controls",
          "model_name": "FloatSliderModel",
          "model_module_version": "1.5.0",
          "state": {
            "_dom_classes": [],
            "_model_module": "@jupyter-widgets/controls",
            "_model_module_version": "1.5.0",
            "_model_name": "FloatSliderModel",
            "_view_count": null,
            "_view_module": "@jupyter-widgets/controls",
            "_view_module_version": "1.5.0",
            "_view_name": "FloatSliderView",
            "continuous_update": true,
            "description": "tau_m",
            "description_tooltip": null,
            "disabled": false,
            "layout": "IPY_MODEL_3bee3594df9f494198c03dbbe29916a6",
            "max": 20,
            "min": 2,
            "orientation": "horizontal",
            "readout": true,
            "readout_format": ".2f",
            "step": 2,
            "style": "IPY_MODEL_9462b3803e504a9fa405be97c6a81f6f",
            "value": 20
          }
        },
        "21e0743554d543c988bad550c78595e8": {
          "model_module": "@jupyter-widgets/output",
          "model_name": "OutputModel",
          "model_module_version": "1.0.0",
          "state": {
            "_dom_classes": [],
            "_model_module": "@jupyter-widgets/output",
            "_model_module_version": "1.0.0",
            "_model_name": "OutputModel",
            "_view_count": null,
            "_view_module": "@jupyter-widgets/output",
            "_view_module_version": "1.0.0",
            "_view_name": "OutputView",
            "layout": "IPY_MODEL_afeccb3f725a4974b5ad1bcc8d96ec3e",
            "msg_id": "",
            "outputs": [
              {
                "output_type": "display_data",
                "data": {
                  "text/plain": "<Figure size 576x432 with 1 Axes>",
                  "image/png": "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\n"
                },
                "metadata": {
                  "image/png": {
                    "width": 552,
                    "height": 414
                  },
                  "needs_background": "light"
                }
              }
            ]
          }
        },
        "e203cc1b05b5429fb108095010dbc4a9": {
          "model_module": "@jupyter-widgets/base",
          "model_name": "LayoutModel",
          "model_module_version": "1.2.0",
          "state": {
            "_model_module": "@jupyter-widgets/base",
            "_model_module_version": "1.2.0",
            "_model_name": "LayoutModel",
            "_view_count": null,
            "_view_module": "@jupyter-widgets/base",
            "_view_module_version": "1.2.0",
            "_view_name": "LayoutView",
            "align_content": null,
            "align_items": null,
            "align_self": null,
            "border": null,
            "bottom": null,
            "display": null,
            "flex": null,
            "flex_flow": null,
            "grid_area": null,
            "grid_auto_columns": null,
            "grid_auto_flow": null,
            "grid_auto_rows": null,
            "grid_column": null,
            "grid_gap": null,
            "grid_row": null,
            "grid_template_areas": null,
            "grid_template_columns": null,
            "grid_template_rows": null,
            "height": null,
            "justify_content": null,
            "justify_items": null,
            "left": null,
            "margin": null,
            "max_height": null,
            "max_width": null,
            "min_height": null,
            "min_width": null,
            "object_fit": null,
            "object_position": null,
            "order": null,
            "overflow": null,
            "overflow_x": null,
            "overflow_y": null,
            "padding": null,
            "right": null,
            "top": null,
            "visibility": null,
            "width": null
          }
        },
        "3bee3594df9f494198c03dbbe29916a6": {
          "model_module": "@jupyter-widgets/base",
          "model_name": "LayoutModel",
          "model_module_version": "1.2.0",
          "state": {
            "_model_module": "@jupyter-widgets/base",
            "_model_module_version": "1.2.0",
            "_model_name": "LayoutModel",
            "_view_count": null,
            "_view_module": "@jupyter-widgets/base",
            "_view_module_version": "1.2.0",
            "_view_name": "LayoutView",
            "align_content": null,
            "align_items": null,
            "align_self": null,
            "border": null,
            "bottom": null,
            "display": null,
            "flex": null,
            "flex_flow": null,
            "grid_area": null,
            "grid_auto_columns": null,
            "grid_auto_flow": null,
            "grid_auto_rows": null,
            "grid_column": null,
            "grid_gap": null,
            "grid_row": null,
            "grid_template_areas": null,
            "grid_template_columns": null,
            "grid_template_rows": null,
            "height": null,
            "justify_content": null,
            "justify_items": null,
            "left": null,
            "margin": null,
            "max_height": null,
            "max_width": null,
            "min_height": null,
            "min_width": null,
            "object_fit": null,
            "object_position": null,
            "order": null,
            "overflow": null,
            "overflow_x": null,
            "overflow_y": null,
            "padding": null,
            "right": null,
            "top": null,
            "visibility": null,
            "width": "450px"
          }
        },
        "b684374b6dc84f4799bb407fa702e447": {
          "model_module": "@jupyter-widgets/controls",
          "model_name": "SliderStyleModel",
          "model_module_version": "1.5.0",
          "state": {
            "_model_module": "@jupyter-widgets/controls",
            "_model_module_version": "1.5.0",
            "_model_name": "SliderStyleModel",
            "_view_count": null,
            "_view_module": "@jupyter-widgets/base",
            "_view_module_version": "1.2.0",
            "_view_name": "StyleView",
            "description_width": "",
            "handle_color": null
          }
        },
        "9462b3803e504a9fa405be97c6a81f6f": {
          "model_module": "@jupyter-widgets/controls",
          "model_name": "SliderStyleModel",
          "model_module_version": "1.5.0",
          "state": {
            "_model_module": "@jupyter-widgets/controls",
            "_model_module_version": "1.5.0",
            "_model_name": "SliderStyleModel",
            "_view_count": null,
            "_view_module": "@jupyter-widgets/base",
            "_view_module_version": "1.2.0",
            "_view_name": "StyleView",
            "description_width": "",
            "handle_color": null
          }
        },
        "afeccb3f725a4974b5ad1bcc8d96ec3e": {
          "model_module": "@jupyter-widgets/base",
          "model_name": "LayoutModel",
          "model_module_version": "1.2.0",
          "state": {
            "_model_module": "@jupyter-widgets/base",
            "_model_module_version": "1.2.0",
            "_model_name": "LayoutModel",
            "_view_count": null,
            "_view_module": "@jupyter-widgets/base",
            "_view_module_version": "1.2.0",
            "_view_name": "LayoutView",
            "align_content": null,
            "align_items": null,
            "align_self": null,
            "border": null,
            "bottom": null,
            "display": null,
            "flex": null,
            "flex_flow": null,
            "grid_area": null,
            "grid_auto_columns": null,
            "grid_auto_flow": null,
            "grid_auto_rows": null,
            "grid_column": null,
            "grid_gap": null,
            "grid_row": null,
            "grid_template_areas": null,
            "grid_template_columns": null,
            "grid_template_rows": null,
            "height": null,
            "justify_content": null,
            "justify_items": null,
            "left": null,
            "margin": null,
            "max_height": null,
            "max_width": null,
            "min_height": null,
            "min_width": null,
            "object_fit": null,
            "object_position": null,
            "order": null,
            "overflow": null,
            "overflow_x": null,
            "overflow_y": null,
            "padding": null,
            "right": null,
            "top": null,
            "visibility": null,
            "width": null
          }
        },
        "f16ca46c8d81471191bfcc4eebf4ae5b": {
          "model_module": "@jupyter-widgets/controls",
          "model_name": "VBoxModel",
          "model_module_version": "1.5.0",
          "state": {
            "_dom_classes": [
              "widget-interact"
            ],
            "_model_module": "@jupyter-widgets/controls",
            "_model_module_version": "1.5.0",
            "_model_name": "VBoxModel",
            "_view_count": null,
            "_view_module": "@jupyter-widgets/controls",
            "_view_module_version": "1.5.0",
            "_view_name": "VBoxView",
            "box_style": "",
            "children": [
              "IPY_MODEL_6513d28e2e494af08f0e778f0d6c8e22",
              "IPY_MODEL_dd1f64aa12a9485eba732b0ba3c4c1f4",
              "IPY_MODEL_4b3489b3f2fc4ef08c55d96f0104c22b"
            ],
            "layout": "IPY_MODEL_2cc1e3c7db2a492c80155e026cfa7a8e"
          }
        },
        "6513d28e2e494af08f0e778f0d6c8e22": {
          "model_module": "@jupyter-widgets/controls",
          "model_name": "FloatSliderModel",
          "model_module_version": "1.5.0",
          "state": {
            "_dom_classes": [],
            "_model_module": "@jupyter-widgets/controls",
            "_model_module_version": "1.5.0",
            "_model_name": "FloatSliderModel",
            "_view_count": null,
            "_view_module": "@jupyter-widgets/controls",
            "_view_module_version": "1.5.0",
            "_view_name": "FloatSliderView",
            "continuous_update": true,
            "description": "mu_gwn",
            "description_tooltip": null,
            "disabled": false,
            "layout": "IPY_MODEL_3bee3594df9f494198c03dbbe29916a6",
            "max": 300,
            "min": 100,
            "orientation": "horizontal",
            "readout": true,
            "readout_format": ".2f",
            "step": 5,
            "style": "IPY_MODEL_583a325e07ab4f28b61decb5fe9d764b",
            "value": 295
          }
        },
        "dd1f64aa12a9485eba732b0ba3c4c1f4": {
          "model_module": "@jupyter-widgets/controls",
          "model_name": "FloatSliderModel",
          "model_module_version": "1.5.0",
          "state": {
            "_dom_classes": [],
            "_model_module": "@jupyter-widgets/controls",
            "_model_module_version": "1.5.0",
            "_model_name": "FloatSliderModel",
            "_view_count": null,
            "_view_module": "@jupyter-widgets/controls",
            "_view_module_version": "1.5.0",
            "_view_name": "FloatSliderView",
            "continuous_update": true,
            "description": "sig_gwn",
            "description_tooltip": null,
            "disabled": false,
            "layout": "IPY_MODEL_3bee3594df9f494198c03dbbe29916a6",
            "max": 5,
            "min": 0,
            "orientation": "horizontal",
            "readout": true,
            "readout_format": ".2f",
            "step": 0.5,
            "style": "IPY_MODEL_262c61287f424d16914cb87cb91f556f",
            "value": 3
          }
        },
        "4b3489b3f2fc4ef08c55d96f0104c22b": {
          "model_module": "@jupyter-widgets/output",
          "model_name": "OutputModel",
          "model_module_version": "1.0.0",
          "state": {
            "_dom_classes": [],
            "_model_module": "@jupyter-widgets/output",
            "_model_module_version": "1.0.0",
            "_model_name": "OutputModel",
            "_view_count": null,
            "_view_module": "@jupyter-widgets/output",
            "_view_module_version": "1.0.0",
            "_view_name": "OutputView",
            "layout": "IPY_MODEL_1263b274fdf04883b683d359b27d2775",
            "msg_id": "",
            "outputs": [
              {
                "output_type": "display_data",
                "data": {
                  "text/plain": "<Figure size 864x288 with 2 Axes>",
                  "image/png": "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\n"
                },
                "metadata": {
                  "image/png": {
                    "width": 846,
                    "height": 270
                  },
                  "needs_background": "light"
                }
              }
            ]
          }
        },
        "2cc1e3c7db2a492c80155e026cfa7a8e": {
          "model_module": "@jupyter-widgets/base",
          "model_name": "LayoutModel",
          "model_module_version": "1.2.0",
          "state": {
            "_model_module": "@jupyter-widgets/base",
            "_model_module_version": "1.2.0",
            "_model_name": "LayoutModel",
            "_view_count": null,
            "_view_module": "@jupyter-widgets/base",
            "_view_module_version": "1.2.0",
            "_view_name": "LayoutView",
            "align_content": null,
            "align_items": null,
            "align_self": null,
            "border": null,
            "bottom": null,
            "display": null,
            "flex": null,
            "flex_flow": null,
            "grid_area": null,
            "grid_auto_columns": null,
            "grid_auto_flow": null,
            "grid_auto_rows": null,
            "grid_column": null,
            "grid_gap": null,
            "grid_row": null,
            "grid_template_areas": null,
            "grid_template_columns": null,
            "grid_template_rows": null,
            "height": null,
            "justify_content": null,
            "justify_items": null,
            "left": null,
            "margin": null,
            "max_height": null,
            "max_width": null,
            "min_height": null,
            "min_width": null,
            "object_fit": null,
            "object_position": null,
            "order": null,
            "overflow": null,
            "overflow_x": null,
            "overflow_y": null,
            "padding": null,
            "right": null,
            "top": null,
            "visibility": null,
            "width": null
          }
        },
        "583a325e07ab4f28b61decb5fe9d764b": {
          "model_module": "@jupyter-widgets/controls",
          "model_name": "SliderStyleModel",
          "model_module_version": "1.5.0",
          "state": {
            "_model_module": "@jupyter-widgets/controls",
            "_model_module_version": "1.5.0",
            "_model_name": "SliderStyleModel",
            "_view_count": null,
            "_view_module": "@jupyter-widgets/base",
            "_view_module_version": "1.2.0",
            "_view_name": "StyleView",
            "description_width": "",
            "handle_color": null
          }
        },
        "262c61287f424d16914cb87cb91f556f": {
          "model_module": "@jupyter-widgets/controls",
          "model_name": "SliderStyleModel",
          "model_module_version": "1.5.0",
          "state": {
            "_model_module": "@jupyter-widgets/controls",
            "_model_module_version": "1.5.0",
            "_model_name": "SliderStyleModel",
            "_view_count": null,
            "_view_module": "@jupyter-widgets/base",
            "_view_module_version": "1.2.0",
            "_view_name": "StyleView",
            "description_width": "",
            "handle_color": null
          }
        },
        "1263b274fdf04883b683d359b27d2775": {
          "model_module": "@jupyter-widgets/base",
          "model_name": "LayoutModel",
          "model_module_version": "1.2.0",
          "state": {
            "_model_module": "@jupyter-widgets/base",
            "_model_module_version": "1.2.0",
            "_model_name": "LayoutModel",
            "_view_count": null,
            "_view_module": "@jupyter-widgets/base",
            "_view_module_version": "1.2.0",
            "_view_name": "LayoutView",
            "align_content": null,
            "align_items": null,
            "align_self": null,
            "border": null,
            "bottom": null,
            "display": null,
            "flex": null,
            "flex_flow": null,
            "grid_area": null,
            "grid_auto_columns": null,
            "grid_auto_flow": null,
            "grid_auto_rows": null,
            "grid_column": null,
            "grid_gap": null,
            "grid_row": null,
            "grid_template_areas": null,
            "grid_template_columns": null,
            "grid_template_rows": null,
            "height": null,
            "justify_content": null,
            "justify_items": null,
            "left": null,
            "margin": null,
            "max_height": null,
            "max_width": null,
            "min_height": null,
            "min_width": null,
            "object_fit": null,
            "object_position": null,
            "order": null,
            "overflow": null,
            "overflow_x": null,
            "overflow_y": null,
            "padding": null,
            "right": null,
            "top": null,
            "visibility": null,
            "width": null
          }
        },
        "d8e3acca8197499f8f3664af0119a34f": {
          "model_module": "@jupyter-widgets/controls",
          "model_name": "VBoxModel",
          "model_module_version": "1.5.0",
          "state": {
            "_dom_classes": [
              "widget-interact"
            ],
            "_model_module": "@jupyter-widgets/controls",
            "_model_module_version": "1.5.0",
            "_model_name": "VBoxModel",
            "_view_count": null,
            "_view_module": "@jupyter-widgets/controls",
            "_view_module_version": "1.5.0",
            "_view_name": "VBoxView",
            "box_style": "",
            "children": [
              "IPY_MODEL_2e68803d865b493d93339d8c5454c5bf",
              "IPY_MODEL_763c6b6fb8ea4b578043fcadd74d5902"
            ],
            "layout": "IPY_MODEL_0038aebc10a14f738ea7fc246f727ee1"
          }
        },
        "2e68803d865b493d93339d8c5454c5bf": {
          "model_module": "@jupyter-widgets/controls",
          "model_name": "FloatSliderModel",
          "model_module_version": "1.5.0",
          "state": {
            "_dom_classes": [],
            "_model_module": "@jupyter-widgets/controls",
            "_model_module_version": "1.5.0",
            "_model_name": "FloatSliderModel",
            "_view_count": null,
            "_view_module": "@jupyter-widgets/controls",
            "_view_module_version": "1.5.0",
            "_view_name": "FloatSliderView",
            "continuous_update": true,
            "description": "sig_gwn",
            "description_tooltip": null,
            "disabled": false,
            "layout": "IPY_MODEL_3bee3594df9f494198c03dbbe29916a6",
            "max": 6,
            "min": 0,
            "orientation": "horizontal",
            "readout": true,
            "readout_format": ".2f",
            "step": 0.5,
            "style": "IPY_MODEL_e21fc2e781804906bd760cb44f412045",
            "value": 3
          }
        },
        "763c6b6fb8ea4b578043fcadd74d5902": {
          "model_module": "@jupyter-widgets/output",
          "model_name": "OutputModel",
          "model_module_version": "1.0.0",
          "state": {
            "_dom_classes": [],
            "_model_module": "@jupyter-widgets/output",
            "_model_module_version": "1.0.0",
            "_model_name": "OutputModel",
            "_view_count": null,
            "_view_module": "@jupyter-widgets/output",
            "_view_module_version": "1.0.0",
            "_view_name": "OutputView",
            "layout": "IPY_MODEL_c233a04f28ea4d0aab26ead9dd73ee73",
            "msg_id": "",
            "outputs": [
              {
                "output_type": "display_data",
                "data": {
                  "text/plain": "<Figure size 576x432 with 1 Axes>",
                  "image/png": "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\n"
                },
                "metadata": {
                  "image/png": {
                    "width": 557,
                    "height": 414
                  },
                  "needs_background": "light"
                }
              }
            ]
          }
        },
        "0038aebc10a14f738ea7fc246f727ee1": {
          "model_module": "@jupyter-widgets/base",
          "model_name": "LayoutModel",
          "model_module_version": "1.2.0",
          "state": {
            "_model_module": "@jupyter-widgets/base",
            "_model_module_version": "1.2.0",
            "_model_name": "LayoutModel",
            "_view_count": null,
            "_view_module": "@jupyter-widgets/base",
            "_view_module_version": "1.2.0",
            "_view_name": "LayoutView",
            "align_content": null,
            "align_items": null,
            "align_self": null,
            "border": null,
            "bottom": null,
            "display": null,
            "flex": null,
            "flex_flow": null,
            "grid_area": null,
            "grid_auto_columns": null,
            "grid_auto_flow": null,
            "grid_auto_rows": null,
            "grid_column": null,
            "grid_gap": null,
            "grid_row": null,
            "grid_template_areas": null,
            "grid_template_columns": null,
            "grid_template_rows": null,
            "height": null,
            "justify_content": null,
            "justify_items": null,
            "left": null,
            "margin": null,
            "max_height": null,
            "max_width": null,
            "min_height": null,
            "min_width": null,
            "object_fit": null,
            "object_position": null,
            "order": null,
            "overflow": null,
            "overflow_x": null,
            "overflow_y": null,
            "padding": null,
            "right": null,
            "top": null,
            "visibility": null,
            "width": null
          }
        },
        "e21fc2e781804906bd760cb44f412045": {
          "model_module": "@jupyter-widgets/controls",
          "model_name": "SliderStyleModel",
          "model_module_version": "1.5.0",
          "state": {
            "_model_module": "@jupyter-widgets/controls",
            "_model_module_version": "1.5.0",
            "_model_name": "SliderStyleModel",
            "_view_count": null,
            "_view_module": "@jupyter-widgets/base",
            "_view_module_version": "1.2.0",
            "_view_name": "StyleView",
            "description_width": "",
            "handle_color": null
          }
        },
        "c233a04f28ea4d0aab26ead9dd73ee73": {
          "model_module": "@jupyter-widgets/base",
          "model_name": "LayoutModel",
          "model_module_version": "1.2.0",
          "state": {
            "_model_module": "@jupyter-widgets/base",
            "_model_module_version": "1.2.0",
            "_model_name": "LayoutModel",
            "_view_count": null,
            "_view_module": "@jupyter-widgets/base",
            "_view_module_version": "1.2.0",
            "_view_name": "LayoutView",
            "align_content": null,
            "align_items": null,
            "align_self": null,
            "border": null,
            "bottom": null,
            "display": null,
            "flex": null,
            "flex_flow": null,
            "grid_area": null,
            "grid_auto_columns": null,
            "grid_auto_flow": null,
            "grid_auto_rows": null,
            "grid_column": null,
            "grid_gap": null,
            "grid_row": null,
            "grid_template_areas": null,
            "grid_template_columns": null,
            "grid_template_rows": null,
            "height": null,
            "justify_content": null,
            "justify_items": null,
            "left": null,
            "margin": null,
            "max_height": null,
            "max_width": null,
            "min_height": null,
            "min_width": null,
            "object_fit": null,
            "object_position": null,
            "order": null,
            "overflow": null,
            "overflow_x": null,
            "overflow_y": null,
            "padding": null,
            "right": null,
            "top": null,
            "visibility": null,
            "width": null
          }
        },
        "a4b4d42a6b5d40cba58a81e6028a4ab4": {
          "model_module": "@jupyter-widgets/controls",
          "model_name": "VBoxModel",
          "model_module_version": "1.5.0",
          "state": {
            "_dom_classes": [
              "widget-interact"
            ],
            "_model_module": "@jupyter-widgets/controls",
            "_model_module_version": "1.5.0",
            "_model_name": "VBoxModel",
            "_view_count": null,
            "_view_module": "@jupyter-widgets/controls",
            "_view_module_version": "1.5.0",
            "_view_name": "VBoxView",
            "box_style": "",
            "children": [
              "IPY_MODEL_7c17cf901a7c4e808e18c980d61fccc4",
              "IPY_MODEL_7898e85f2f5b4c99ac5f8763df0fa6bf"
            ],
            "layout": "IPY_MODEL_f7def6ef778b4fc0bd78fa074e0974e7"
          }
        },
        "7c17cf901a7c4e808e18c980d61fccc4": {
          "model_module": "@jupyter-widgets/controls",
          "model_name": "FloatSliderModel",
          "model_module_version": "1.5.0",
          "state": {
            "_dom_classes": [],
            "_model_module": "@jupyter-widgets/controls",
            "_model_module_version": "1.5.0",
            "_model_name": "FloatSliderModel",
            "_view_count": null,
            "_view_module": "@jupyter-widgets/controls",
            "_view_module_version": "1.5.0",
            "_view_name": "FloatSliderView",
            "continuous_update": true,
            "description": "sig_gwn",
            "description_tooltip": null,
            "disabled": false,
            "layout": "IPY_MODEL_3bee3594df9f494198c03dbbe29916a6",
            "max": 10,
            "min": 0,
            "orientation": "horizontal",
            "readout": true,
            "readout_format": ".2f",
            "step": 0.5,
            "style": "IPY_MODEL_ce92c59850bb4a2f81a30407e25c1d63",
            "value": 10
          }
        },
        "7898e85f2f5b4c99ac5f8763df0fa6bf": {
          "model_module": "@jupyter-widgets/output",
          "model_name": "OutputModel",
          "model_module_version": "1.0.0",
          "state": {
            "_dom_classes": [],
            "_model_module": "@jupyter-widgets/output",
            "_model_module_version": "1.0.0",
            "_model_name": "OutputModel",
            "_view_count": null,
            "_view_module": "@jupyter-widgets/output",
            "_view_module_version": "1.0.0",
            "_view_name": "OutputView",
            "layout": "IPY_MODEL_24a5b24a51224e00a871da6f99f785cf",
            "msg_id": "",
            "outputs": [
              {
                "output_type": "display_data",
                "data": {
                  "text/plain": "<Figure size 576x432 with 1 Axes>",
                  "image/png": "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\n"
                },
                "metadata": {
                  "image/png": {
                    "width": 558,
                    "height": 413
                  },
                  "needs_background": "light"
                }
              }
            ]
          }
        },
        "f7def6ef778b4fc0bd78fa074e0974e7": {
          "model_module": "@jupyter-widgets/base",
          "model_name": "LayoutModel",
          "model_module_version": "1.2.0",
          "state": {
            "_model_module": "@jupyter-widgets/base",
            "_model_module_version": "1.2.0",
            "_model_name": "LayoutModel",
            "_view_count": null,
            "_view_module": "@jupyter-widgets/base",
            "_view_module_version": "1.2.0",
            "_view_name": "LayoutView",
            "align_content": null,
            "align_items": null,
            "align_self": null,
            "border": null,
            "bottom": null,
            "display": null,
            "flex": null,
            "flex_flow": null,
            "grid_area": null,
            "grid_auto_columns": null,
            "grid_auto_flow": null,
            "grid_auto_rows": null,
            "grid_column": null,
            "grid_gap": null,
            "grid_row": null,
            "grid_template_areas": null,
            "grid_template_columns": null,
            "grid_template_rows": null,
            "height": null,
            "justify_content": null,
            "justify_items": null,
            "left": null,
            "margin": null,
            "max_height": null,
            "max_width": null,
            "min_height": null,
            "min_width": null,
            "object_fit": null,
            "object_position": null,
            "order": null,
            "overflow": null,
            "overflow_x": null,
            "overflow_y": null,
            "padding": null,
            "right": null,
            "top": null,
            "visibility": null,
            "width": null
          }
        },
        "ce92c59850bb4a2f81a30407e25c1d63": {
          "model_module": "@jupyter-widgets/controls",
          "model_name": "SliderStyleModel",
          "model_module_version": "1.5.0",
          "state": {
            "_model_module": "@jupyter-widgets/controls",
            "_model_module_version": "1.5.0",
            "_model_name": "SliderStyleModel",
            "_view_count": null,
            "_view_module": "@jupyter-widgets/base",
            "_view_module_version": "1.2.0",
            "_view_name": "StyleView",
            "description_width": "",
            "handle_color": null
          }
        },
        "24a5b24a51224e00a871da6f99f785cf": {
          "model_module": "@jupyter-widgets/base",
          "model_name": "LayoutModel",
          "model_module_version": "1.2.0",
          "state": {
            "_model_module": "@jupyter-widgets/base",
            "_model_module_version": "1.2.0",
            "_model_name": "LayoutModel",
            "_view_count": null,
            "_view_module": "@jupyter-widgets/base",
            "_view_module_version": "1.2.0",
            "_view_name": "LayoutView",
            "align_content": null,
            "align_items": null,
            "align_self": null,
            "border": null,
            "bottom": null,
            "display": null,
            "flex": null,
            "flex_flow": null,
            "grid_area": null,
            "grid_auto_columns": null,
            "grid_auto_flow": null,
            "grid_auto_rows": null,
            "grid_column": null,
            "grid_gap": null,
            "grid_row": null,
            "grid_template_areas": null,
            "grid_template_columns": null,
            "grid_template_rows": null,
            "height": null,
            "justify_content": null,
            "justify_items": null,
            "left": null,
            "margin": null,
            "max_height": null,
            "max_width": null,
            "min_height": null,
            "min_width": null,
            "object_fit": null,
            "object_position": null,
            "order": null,
            "overflow": null,
            "overflow_x": null,
            "overflow_y": null,
            "padding": null,
            "right": null,
            "top": null,
            "visibility": null,
            "width": null
          }
        }
      }
    }
  },
  "nbformat": 4,
  "nbformat_minor": 0
}